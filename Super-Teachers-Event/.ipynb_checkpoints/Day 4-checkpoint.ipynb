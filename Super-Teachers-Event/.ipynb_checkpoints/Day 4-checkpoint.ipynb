{
 "cells": [
  {
   "cell_type": "markdown",
   "metadata": {},
   "source": [
    "![](Images/banner.jpeg)"
   ]
  },
  {
   "cell_type": "markdown",
   "metadata": {},
   "source": [
    "# Introduction to branching and loops\n",
    "\n",
    "\n",
    "In this section, you will learn conditions and branching in python. Conditions and branching are known as control structures and they determine determine whether a block of code will run or not."
   ]
  },
  {
   "cell_type": "markdown",
   "metadata": {},
   "source": [
    "## What you stand to gain in this unit\n",
    "\n",
    "Upon completion of this study unit, you should be able to:\n",
    "\n",
    "- Work with control statements to make some decisions in Python\n",
    "\n",
    "- Use for and while loop to perform some operations\n",
    "\n",
    "- Use continue and break statements as additional layer to the for and while while loops"
   ]
  },
  {
   "cell_type": "markdown",
   "metadata": {},
   "source": [
    "# Conditional Statements in Python\n",
    "\n",
    "Majority of the time when programming, we'll need to control the flow of our logic. Our program will want to perform an action in only certain cases, we can use the **if**, **elif**, and **else** statements to control for these cases. Let's work through some examples:"
   ]
  },
  {
   "cell_type": "markdown",
   "metadata": {},
   "source": [
    "## The if and else statement\n",
    "\n",
    "![](Images/ifelse.jpg)\n",
    "\n",
    "\n",
    "The format for an if statement is\n",
    "\n",
    "`if expression:`\n",
    "\n",
    "    Statement 1\n",
    "\n",
    "`else:`\n",
    "\n",
    "    Statement 2\n",
    "  \n",
    "The if statement checks whether the expression evaluates to True, and if so, the statement 1 is executed, otherwise the statement 2 is executed. Note the indentation before the statement 1 and 2 and the colon (`:`) in the `if expression` and `else`."
   ]
  },
  {
   "cell_type": "markdown",
   "metadata": {},
   "source": [
    "# Tips\n",
    "\n",
    "All the comparion operators discused in unit 1 will be useful here."
   ]
  },
  {
   "cell_type": "markdown",
   "metadata": {},
   "source": [
    "## Example 1"
   ]
  },
  {
   "cell_type": "code",
   "execution_count": 1,
   "metadata": {},
   "outputs": [
    {
     "name": "stdout",
     "output_type": "stream",
     "text": [
      "x is less than y\n"
     ]
    }
   ],
   "source": [
    "x = 10\n",
    "\n",
    "y = 22\n",
    "\n",
    "if (x < y):\n",
    "    \n",
    "    print(\"x is less than y\")\n",
    "    \n",
    "else:\n",
    "    print(\"x is greater than y\")"
   ]
  },
  {
   "cell_type": "markdown",
   "metadata": {},
   "source": [
    "## Example 2\n",
    "\n",
    "We can also use the print formating option:"
   ]
  },
  {
   "cell_type": "code",
   "execution_count": 2,
   "metadata": {},
   "outputs": [
    {
     "name": "stdout",
     "output_type": "stream",
     "text": [
      "x = 10 is less than y = 22\n"
     ]
    }
   ],
   "source": [
    "x = 10\n",
    "\n",
    "y = 22\n",
    "\n",
    "if (x < y):\n",
    "    \n",
    "    print(f\"x = {x} is less than y = {y}\")\n",
    "    \n",
    "else:\n",
    "    print(\"x = {x} is greater than y = {y}\")"
   ]
  },
  {
   "cell_type": "markdown",
   "metadata": {},
   "source": [
    "# Example 3\n",
    "\n",
    "Write a python `if else` statement that checks whether a given variable is an even or an odd number."
   ]
  },
  {
   "cell_type": "code",
   "execution_count": 3,
   "metadata": {},
   "outputs": [
    {
     "name": "stdout",
     "output_type": "stream",
     "text": [
      "x is an odd number\n"
     ]
    }
   ],
   "source": [
    "x = 7\n",
    "\n",
    "if (x % 2 == 0):\n",
    "    print(\"x is an even number\")\n",
    "    \n",
    "else:\n",
    "    print(\"x is an odd number\")"
   ]
  },
  {
   "cell_type": "markdown",
   "metadata": {},
   "source": [
    "# Example 4\n",
    "\n",
    "Write a python `if else` statement that checks whether a given value is even or odd number.\n",
    "\n",
    "## Solution\n",
    "\n",
    "We are going to use `input()` function to ask for a value, and as you know, the data type of a variable gotten from an input function is always a string. Therefore, we are going to convert the result to an integer by using `int()` functioon"
   ]
  },
  {
   "cell_type": "code",
   "execution_count": 4,
   "metadata": {},
   "outputs": [
    {
     "name": "stdin",
     "output_type": "stream",
     "text": [
      "Enter any number 15\n"
     ]
    },
    {
     "name": "stdout",
     "output_type": "stream",
     "text": [
      "The number you entered is an odd number\n"
     ]
    }
   ],
   "source": [
    "x = int(input(\"Enter any number\"))\n",
    "\n",
    "if (x % 2 == 0):\n",
    "    print(\"The number you entered is an even number\")\n",
    "    \n",
    "else:\n",
    "    print(\"The number you entered is an odd number\")"
   ]
  },
  {
   "cell_type": "markdown",
   "metadata": {},
   "source": [
    "# Example 5: Game of guess\n",
    "\n",
    "You want to know whether your friends can guess your ATM password accurately. You wrote the below code and then ask each and everyone of them to enter your password."
   ]
  },
  {
   "cell_type": "code",
   "execution_count": 5,
   "metadata": {},
   "outputs": [
    {
     "name": "stdin",
     "output_type": "stream",
     "text": [
      "Please guess my password 1698\n"
     ]
    },
    {
     "name": "stdout",
     "output_type": "stream",
     "text": [
      "You're a criminal\n"
     ]
    }
   ],
   "source": [
    "saved_password = 1519\n",
    "\n",
    "new_password = input(\"Please guess my password\")\n",
    "\n",
    "if int(new_password) == saved_password:\n",
    "    print(\"Password correct\")\n",
    "else:\n",
    "    print(\"You're a criminal\")"
   ]
  },
  {
   "cell_type": "markdown",
   "metadata": {},
   "source": [
    "# Example 6\n",
    "\n",
    "\n",
    "Test if a is less than b, AND if c is greater than a:"
   ]
  },
  {
   "cell_type": "code",
   "execution_count": 6,
   "metadata": {},
   "outputs": [
    {
     "name": "stdout",
     "output_type": "stream",
     "text": [
      "None of the conditions is True\n"
     ]
    }
   ],
   "source": [
    "a = 10\n",
    "b = 13\n",
    "c = 16\n",
    "\n",
    "if (a > b and c > a):\n",
    "    print(\"Both conditions are True\")\n",
    "else:\n",
    "    print(\"None of the conditions is True\")"
   ]
  },
  {
   "cell_type": "markdown",
   "metadata": {},
   "source": [
    "# Example 7\n",
    "\n",
    "Bank transfer experience"
   ]
  },
  {
   "cell_type": "code",
   "execution_count": 7,
   "metadata": {},
   "outputs": [
    {
     "name": "stdout",
     "output_type": "stream",
     "text": [
      "Transfer Failed! Not enough funds\n"
     ]
    }
   ],
   "source": [
    "amount_in_bank = 500\n",
    "\n",
    "transfer_amount = 600\n",
    "\n",
    "if (amount_in_bank > transfer_amount):\n",
    "    print(\"Transfer Successful\" )\n",
    "else:\n",
    "    print(\"Transfer Failed! Not enough funds\" )"
   ]
  },
  {
   "cell_type": "markdown",
   "metadata": {},
   "source": [
    "## if, elif, else statement\n",
    "\n",
    "Now let's imagine we have multiple conditions to check before the final **else** statement, this is where we can use the **elif** keyword to check for as many individual conditions as possible.\n",
    "\n",
    "### Example 1"
   ]
  },
  {
   "cell_type": "code",
   "execution_count": 8,
   "metadata": {},
   "outputs": [
    {
     "name": "stdout",
     "output_type": "stream",
     "text": [
      "None of the above conditions are True\n"
     ]
    }
   ],
   "source": [
    "x = 2\n",
    "\n",
    "y = 6\n",
    "\n",
    "if x == y:\n",
    "    print('First condition True')\n",
    "elif x > y :\n",
    "    print(\"Second condition True\")\n",
    "elif x == 100:\n",
    "    print(\"Third condition True\")\n",
    "else:\n",
    "    print(\"None of the above conditions are True\")"
   ]
  },
  {
   "cell_type": "markdown",
   "metadata": {},
   "source": [
    "### Example 2"
   ]
  },
  {
   "cell_type": "code",
   "execution_count": 9,
   "metadata": {},
   "outputs": [
    {
     "name": "stdout",
     "output_type": "stream",
     "text": [
      "Second condition True\n"
     ]
    }
   ],
   "source": [
    "x = 2\n",
    "\n",
    "y = 6\n",
    "\n",
    "if x == y:\n",
    "    print('First condition True')\n",
    "elif y > x :\n",
    "    print(\"Second condition True\")\n",
    "elif x == 100:\n",
    "    print(\"Third condition True\")\n",
    "else:\n",
    "    print(\"None of the above conditions are True\")"
   ]
  },
  {
   "cell_type": "markdown",
   "metadata": {},
   "source": [
    "Since y > x, therefore, this condition will be executed"
   ]
  },
  {
   "cell_type": "markdown",
   "metadata": {},
   "source": [
    "# Example 3: \n",
    "\n",
    "Bank transfer experience"
   ]
  },
  {
   "cell_type": "code",
   "execution_count": 10,
   "metadata": {},
   "outputs": [
    {
     "name": "stdout",
     "output_type": "stream",
     "text": [
      "Transfer Successful\n"
     ]
    }
   ],
   "source": [
    "amount_in_bank = 600\n",
    "\n",
    "transfer_amount = 500\n",
    "\n",
    "if amount_in_bank > transfer_amount:\n",
    "    print(\"Transfer Successful\" )\n",
    "elif amount_in_bank == transfer_amount:\n",
    "    print(\"Transfer successful! Remember to add more fund next time\")\n",
    "else:\n",
    "    print(\"Transfer Failed! Not Enought Funds\")"
   ]
  },
  {
   "cell_type": "markdown",
   "metadata": {},
   "source": [
    "# Python Loops\n",
    "\n",
    "There are two types of loops in Python\n",
    "\n",
    "- `for` loop \n",
    "\n",
    "and \n",
    "\n",
    "- `while` loop.\n",
    "\n",
    "## for loop\n",
    "\n",
    "A for loop is used to iterate over a sequence of object such as list, tuple, set, string or a dictionary.\n",
    "\n",
    "\n",
    "\n",
    "Syntax of for Loop\n",
    "\n",
    "`\n",
    "for item in object:\n",
    "    statements to do\n",
    " `\n",
    " \n",
    " \n",
    "The naming of the `item` is completely up to you, so use your best judgment for choosing a name that makes sense and you will be able to understand when revisiting your code."
   ]
  },
  {
   "cell_type": "markdown",
   "metadata": {},
   "source": [
    "# Example 1"
   ]
  },
  {
   "cell_type": "markdown",
   "metadata": {},
   "source": [
    "With the for loop we can execute a set of statements, once for each item in a set, list, tuple, set etc. Consider this example that print each fruit in the fridge:"
   ]
  },
  {
   "cell_type": "code",
   "execution_count": 11,
   "metadata": {},
   "outputs": [
    {
     "name": "stdout",
     "output_type": "stream",
     "text": [
      "Mango\n",
      "Orange\n",
      "Apple\n",
      "Lemon\n",
      "Banana\n",
      "Grape\n",
      "Cherry\n",
      "Avocado\n",
      "Watermelon\n"
     ]
    }
   ],
   "source": [
    "fridge = [\"Mango\", \"Orange\", \"Apple\",\"Lemon\", \"Banana\", \"Grape\", \"Cherry\", \"Avocado\", \"Watermelon\"]\n",
    "for fruit in fridge:\n",
    "  print(fruit)"
   ]
  },
  {
   "cell_type": "markdown",
   "metadata": {},
   "source": [
    "# Tips\n",
    "\n",
    "Code indentation becomes very important as we begin to work with loops and control flow."
   ]
  },
  {
   "cell_type": "markdown",
   "metadata": {},
   "source": [
    "# Example 2\n",
    "\n",
    "Printing the square of each number in the list"
   ]
  },
  {
   "cell_type": "code",
   "execution_count": 12,
   "metadata": {},
   "outputs": [
    {
     "name": "stdout",
     "output_type": "stream",
     "text": [
      "1\n",
      "4\n",
      "9\n",
      "16\n"
     ]
    }
   ],
   "source": [
    "mylist = [1, 2, 3, 4]\n",
    "\n",
    "for number in mylist:\n",
    "    print(number**2)"
   ]
  },
  {
   "cell_type": "markdown",
   "metadata": {},
   "source": [
    "As you can see, each of the number in the list has been squared with for loop"
   ]
  },
  {
   "cell_type": "markdown",
   "metadata": {},
   "source": [
    "# Example 3\n",
    "\n",
    "Print the square of each of the number from 0 to 9 using range function"
   ]
  },
  {
   "cell_type": "code",
   "execution_count": 13,
   "metadata": {},
   "outputs": [
    {
     "name": "stdout",
     "output_type": "stream",
     "text": [
      "0 : 0\n",
      "1 : 1\n",
      "2 : 4\n",
      "3 : 9\n",
      "4 : 16\n",
      "5 : 25\n",
      "6 : 36\n",
      "7 : 49\n",
      "8 : 64\n",
      "9 : 81\n"
     ]
    }
   ],
   "source": [
    "for i in range(10):\n",
    "    print(i, \":\", i**2)"
   ]
  },
  {
   "cell_type": "markdown",
   "metadata": {},
   "source": [
    "# Example 4\n",
    "\n",
    "for loop with strings"
   ]
  },
  {
   "cell_type": "code",
   "execution_count": 14,
   "metadata": {},
   "outputs": [
    {
     "name": "stdout",
     "output_type": "stream",
     "text": [
      "N\n",
      "i\n",
      "g\n",
      "e\n",
      "r\n",
      "i\n",
      "a\n"
     ]
    }
   ],
   "source": [
    "country = \"Nigeria\"\n",
    "\n",
    "for character in country:\n",
    "    print(character )"
   ]
  },
  {
   "cell_type": "markdown",
   "metadata": {},
   "source": [
    "As you can see, each character in the South Sudan is being printed."
   ]
  },
  {
   "cell_type": "markdown",
   "metadata": {},
   "source": [
    "## Example 4\n",
    "\n",
    "for loop with tuple"
   ]
  },
  {
   "cell_type": "code",
   "execution_count": 15,
   "metadata": {},
   "outputs": [
    {
     "name": "stdout",
     "output_type": "stream",
     "text": [
      "This is Kunle\n",
      "This is Sade\n",
      "This is Abdullai\n",
      "This is Jamal\n",
      "This is Halimah\n"
     ]
    }
   ],
   "source": [
    "teachers_name = (\"Kunle\", \"Sade\", \"Abdullai\", \"Jamal\", \"Halimah\")\n",
    "\n",
    "for teacher in teachers_name:\n",
    "    print(\"This is {}\".format(teacher))"
   ]
  },
  {
   "cell_type": "markdown",
   "metadata": {},
   "source": [
    "## Example 5\n",
    "\n",
    "\n",
    "for loop with dictionaries"
   ]
  },
  {
   "cell_type": "code",
   "execution_count": 16,
   "metadata": {},
   "outputs": [],
   "source": [
    "life_expectancy = {\"Nigeria\": 60, \"Kenya\": 69, \"Uganda\": 68, \"Ethiopia\": 68, \"Sudan\": 67, \n",
    "                   \"Rwanda\": 65, \"Tanzania\": 64, \"Somalia\": 54}"
   ]
  },
  {
   "cell_type": "markdown",
   "metadata": {},
   "source": [
    "Remember that dictionary is a key to value pairs"
   ]
  },
  {
   "cell_type": "code",
   "execution_count": 17,
   "metadata": {},
   "outputs": [
    {
     "name": "stdout",
     "output_type": "stream",
     "text": [
      "Nigeria\n",
      "Kenya\n",
      "Uganda\n",
      "Ethiopia\n",
      "Sudan\n",
      "Rwanda\n",
      "Tanzania\n",
      "Somalia\n"
     ]
    }
   ],
   "source": [
    "for country in life_expectancy.keys():\n",
    "    print(country)"
   ]
  },
  {
   "cell_type": "code",
   "execution_count": 18,
   "metadata": {},
   "outputs": [
    {
     "name": "stdout",
     "output_type": "stream",
     "text": [
      "60\n",
      "69\n",
      "68\n",
      "68\n",
      "67\n",
      "65\n",
      "64\n",
      "54\n"
     ]
    }
   ],
   "source": [
    "for year in life_expectancy.values():\n",
    "    print(year)"
   ]
  },
  {
   "cell_type": "code",
   "execution_count": 19,
   "metadata": {},
   "outputs": [
    {
     "name": "stdout",
     "output_type": "stream",
     "text": [
      "Nigeria\n",
      "60\n",
      "\n",
      "\n",
      "Kenya\n",
      "69\n",
      "\n",
      "\n",
      "Uganda\n",
      "68\n",
      "\n",
      "\n",
      "Ethiopia\n",
      "68\n",
      "\n",
      "\n",
      "Sudan\n",
      "67\n",
      "\n",
      "\n",
      "Rwanda\n",
      "65\n",
      "\n",
      "\n",
      "Tanzania\n",
      "64\n",
      "\n",
      "\n",
      "Somalia\n",
      "54\n",
      "\n",
      "\n"
     ]
    }
   ],
   "source": [
    "for country in life_expectancy.keys():\n",
    "    print(country)\n",
    "    print(life_expectancy[country])\n",
    "    print('\\n')"
   ]
  },
  {
   "cell_type": "markdown",
   "metadata": {},
   "source": [
    "# Introduction to break and continue statement in Python\n",
    "\n",
    "We can use break or continue statement to alter the flow of a normal loop in Python. As you know, loop iterates over a block of code until the test expression is False. Sometime, we may wish to terminate or stop the current iteration or even the whole loop without checking test expression. We therefore, use `break` and `continue` statements in these cases."
   ]
  },
  {
   "cell_type": "markdown",
   "metadata": {},
   "source": [
    "----"
   ]
  },
  {
   "cell_type": "markdown",
   "metadata": {},
   "source": [
    "# The continue Statement\n",
    "\n",
    "With the continue statement, we can stop the current iteration of the loop, and continue with the next item.\n",
    "\n",
    "# Example 1\n",
    "\n",
    "Do not print Orange"
   ]
  },
  {
   "cell_type": "code",
   "execution_count": 20,
   "metadata": {},
   "outputs": [
    {
     "name": "stdout",
     "output_type": "stream",
     "text": [
      "Mango\n",
      "Apple\n",
      "Lemon\n",
      "Banana\n",
      "Grape\n",
      "Cherry\n",
      "Avocado\n",
      "Watermelon\n"
     ]
    }
   ],
   "source": [
    "fruits_list = [\"Mango\", \"Orange\", \"Apple\",\"Lemon\", \"Banana\", \"Grape\", \"Cherry\", \"Avocado\", \"Watermelon\"]\n",
    "\n",
    "for fruit in fruits_list:\n",
    "    if fruit == \"Orange\":\n",
    "        continue\n",
    "    print(fruit)"
   ]
  },
  {
   "cell_type": "markdown",
   "metadata": {},
   "source": [
    "Orange is not among the fruits that were printed. "
   ]
  },
  {
   "cell_type": "markdown",
   "metadata": {},
   "source": [
    "# Example 2\n",
    "\n",
    "A score that equals 50 will not be printed"
   ]
  },
  {
   "cell_type": "code",
   "execution_count": 21,
   "metadata": {},
   "outputs": [
    {
     "name": "stdout",
     "output_type": "stream",
     "text": [
      "Your score is 20\n",
      "Your score is 30\n",
      "Your score is 40\n",
      "Your score is 60\n"
     ]
    }
   ],
   "source": [
    "scores = [20, 30, 40, 50, 60]\n",
    "\n",
    "for score in scores:\n",
    "    if score == 50:\n",
    "        continue\n",
    "    print(\"Your score is\", score)"
   ]
  },
  {
   "cell_type": "markdown",
   "metadata": {},
   "source": [
    "# Example 3\n",
    "\n",
    "A farmer in Tigray region of Ethiopia wants to know the list of good eggs in his poultry. A egg is good if it weighs above 60 gramms (g) . Use the for loop and continue statement to print out the good eggs."
   ]
  },
  {
   "cell_type": "code",
   "execution_count": 22,
   "metadata": {},
   "outputs": [
    {
     "name": "stdout",
     "output_type": "stream",
     "text": [
      "61\n",
      "68\n",
      "69\n"
     ]
    }
   ],
   "source": [
    "egg_weight = [59, 56, 61, 68, 52, 53, 69, 54, 57, 51]\n",
    "\n",
    "for egg in egg_weight:\n",
    "  if egg <= 60:\n",
    "    continue\n",
    "  print(egg)"
   ]
  },
  {
   "cell_type": "markdown",
   "metadata": {},
   "source": [
    "As you can see, only eggs that weigh more 60 gramms are printed out."
   ]
  },
  {
   "cell_type": "markdown",
   "metadata": {},
   "source": [
    "# Example 4"
   ]
  },
  {
   "cell_type": "code",
   "execution_count": 23,
   "metadata": {},
   "outputs": [
    {
     "name": "stdout",
     "output_type": "stream",
     "text": [
      "Current Letter is: c\n",
      "Current Letter is: o\n",
      "Current Letter is: d\n"
     ]
    }
   ],
   "source": [
    "for letter in 'code':\n",
    "    if letter == 'e':\n",
    "        continue\n",
    "    print('Current Letter is:',letter)"
   ]
  },
  {
   "cell_type": "markdown",
   "metadata": {},
   "source": [
    "# Class activity \n",
    "\n",
    "Use the continue statement inside the for loop to skip the character from printing if the character is `u` in the string \"Kaduna\".\n"
   ]
  },
  {
   "cell_type": "code",
   "execution_count": 24,
   "metadata": {},
   "outputs": [
    {
     "name": "stdout",
     "output_type": "stream",
     "text": [
      "K\n",
      "a\n",
      "d\n",
      "n\n",
      "a\n"
     ]
    }
   ],
   "source": [
    "# Program to show the use of continue statement inside loops\n",
    "\n",
    "for val in \"Kaduna\":\n",
    "    if val == \"u\":\n",
    "        continue\n",
    "    print(val)"
   ]
  },
  {
   "cell_type": "markdown",
   "metadata": {},
   "source": [
    "Or use"
   ]
  },
  {
   "cell_type": "code",
   "execution_count": 25,
   "metadata": {},
   "outputs": [
    {
     "name": "stdout",
     "output_type": "stream",
     "text": [
      "k\n",
      "a\n",
      "d\n",
      "n\n",
      "a\n"
     ]
    }
   ],
   "source": [
    "state = \"kaduna\"\n",
    "\n",
    "for i in state:\n",
    "    if i == \"u\":\n",
    "        continue\n",
    "    print(i)"
   ]
  },
  {
   "cell_type": "markdown",
   "metadata": {},
   "source": [
    "---\n",
    "\n",
    "# The break Statement\n",
    "\n",
    "With the break statement, we can stop the loop before it has looped through all the items"
   ]
  },
  {
   "cell_type": "markdown",
   "metadata": {},
   "source": [
    "# Example 1\n",
    "\n",
    "Exit the loop when fruit is \"Grape\":"
   ]
  },
  {
   "cell_type": "code",
   "execution_count": 26,
   "metadata": {},
   "outputs": [
    {
     "name": "stdout",
     "output_type": "stream",
     "text": [
      "Mango\n",
      "Orange\n",
      "Apple\n",
      "Lemon\n",
      "Banana\n"
     ]
    }
   ],
   "source": [
    "fridge = [\"Mango\", \"Orange\", \"Apple\",\"Lemon\", \"Banana\", \"Grape\", \"Cherry\", \"Avocado\", \"Watermelon\"]\n",
    "for fruit in fridge:\n",
    "  print(fruit)\n",
    "  if fruit == \"Banana\":\n",
    "    break"
   ]
  },
  {
   "cell_type": "markdown",
   "metadata": {},
   "source": [
    "# Example 2\n",
    "\n",
    "Exit the loop when fruit is \"Grape\", but this time the break comes before the print:"
   ]
  },
  {
   "cell_type": "code",
   "execution_count": 27,
   "metadata": {},
   "outputs": [
    {
     "name": "stdout",
     "output_type": "stream",
     "text": [
      "Mango\n",
      "Orange\n",
      "Apple\n"
     ]
    }
   ],
   "source": [
    "fridge = [\"Mango\", \"Orange\", \"Apple\", \"Banana\", \"Cherry\",]\n",
    "for fruit in fridge:\n",
    "  if fruit == \"Banana\":\n",
    "    break\n",
    "  print(fruit)"
   ]
  },
  {
   "cell_type": "markdown",
   "metadata": {},
   "source": [
    "# Class activity \n",
    "\n",
    "Use the break statement inside the for loop to stop the program if the character is `d` in the string \"Ibadan\"."
   ]
  },
  {
   "cell_type": "markdown",
   "metadata": {},
   "source": [
    "# Class activity (Teacher guided question)\n",
    "\n",
    "Loop through the list `numbers` and print out all even numbers from the numbers list in the same order they are received. Don't print any numbers that come after 35 in the sequence."
   ]
  },
  {
   "cell_type": "code",
   "execution_count": 28,
   "metadata": {},
   "outputs": [],
   "source": [
    "numbers = [751, 202, 784, 451, 160, 131, 208, 119, 401, 285, 780, 307, 525, 347, 344, 415, 117,  35,  59, 301,  63, 417, 665, 375,  19, 190,\n",
    "       784, 392,  36,  95, 742, 741, 186, 262, 153, 218, 707, 144,  36, 175, 623, 366, 397, 778, 128, 415, 753, 145]"
   ]
  },
  {
   "cell_type": "code",
   "execution_count": 29,
   "metadata": {},
   "outputs": [
    {
     "name": "stdout",
     "output_type": "stream",
     "text": [
      "202\n",
      "784\n",
      "160\n",
      "208\n",
      "780\n",
      "344\n"
     ]
    }
   ],
   "source": [
    "for number in numbers:\n",
    "    if number % 2 == 0:\n",
    "        print(number)\n",
    "    if number == 35:\n",
    "        break\n",
    "        print(number)"
   ]
  },
  {
   "cell_type": "markdown",
   "metadata": {},
   "source": [
    "# Class activity (Teacher guided question)\n",
    "\n",
    "Loop through the list `numbers` and print out all even numbers from the numbers list in the same order they are received."
   ]
  },
  {
   "cell_type": "code",
   "execution_count": 30,
   "metadata": {},
   "outputs": [],
   "source": [
    "numbers = [751, 202, 784, 451, 160, 131, 208, 119, 401, 285, 780, 307, 525, 347, 344, 415, 117,  35,  59, 301,  63, 417, 665, 375,  19, 190,\n",
    "       784, 392,  36,  95, 742, 741, 186, 262, 153, 218, 707, 144,  36, 175, 623, 366, 397, 778, 128, 415, 753, 145]"
   ]
  },
  {
   "cell_type": "code",
   "execution_count": 31,
   "metadata": {},
   "outputs": [
    {
     "name": "stdout",
     "output_type": "stream",
     "text": [
      "202\n",
      "784\n",
      "160\n",
      "208\n",
      "780\n",
      "344\n",
      "190\n",
      "784\n",
      "392\n",
      "36\n",
      "742\n",
      "186\n",
      "262\n",
      "218\n",
      "144\n",
      "36\n",
      "366\n",
      "778\n",
      "128\n"
     ]
    }
   ],
   "source": [
    "for number in numbers:\n",
    "    if number % 2 == 0:\n",
    "        print(number)"
   ]
  },
  {
   "cell_type": "markdown",
   "metadata": {},
   "source": [
    "# The while loop\n",
    "\n",
    "A while loop will repeatedly execute a single statement or group of statements as long as the condition being checked is True. The reason it is called a 'while loop' is because the code statements are looped through over and over again until the condition is no longer True.\n",
    "\n",
    "\n",
    "\n",
    "Syntax of while Loop\n",
    "\n",
    "\n",
    "`while test_expression:\n",
    "    Body of while\n",
    "`\n",
    "\n",
    "# Example 1\n",
    "\n",
    "Print number as long as number is less than 10:"
   ]
  },
  {
   "cell_type": "code",
   "execution_count": 32,
   "metadata": {},
   "outputs": [
    {
     "name": "stdout",
     "output_type": "stream",
     "text": [
      "1\n",
      "2\n",
      "3\n",
      "4\n",
      "5\n",
      "6\n",
      "7\n",
      "8\n",
      "9\n"
     ]
    }
   ],
   "source": [
    "number = 1\n",
    "while number < 10:\n",
    "  print(number)\n",
    "  number = number + 1"
   ]
  },
  {
   "cell_type": "markdown",
   "metadata": {},
   "source": [
    "As you can see, it only prints number that is less than 10."
   ]
  },
  {
   "cell_type": "markdown",
   "metadata": {},
   "source": [
    "# Warning\n",
    "\n",
    "You must remember to increase number i.e. `number + 1`, or else the loop will continue forever.\n",
    "\n",
    "\n",
    "# Tip\n",
    "One unique feature about the while loop is that it requires relevant variables to be ready, in this example we need to define an indexing variable, number, which we set to 1."
   ]
  },
  {
   "cell_type": "markdown",
   "metadata": {},
   "source": [
    "# Example 2 "
   ]
  },
  {
   "cell_type": "markdown",
   "metadata": {},
   "source": [
    "We can also do the increament in this way:"
   ]
  },
  {
   "cell_type": "code",
   "execution_count": 33,
   "metadata": {},
   "outputs": [
    {
     "name": "stdout",
     "output_type": "stream",
     "text": [
      "1\n",
      "2\n",
      "3\n",
      "4\n",
      "5\n",
      "6\n",
      "7\n",
      "8\n",
      "9\n"
     ]
    }
   ],
   "source": [
    "number = 1\n",
    "\n",
    "while number < 10:\n",
    "  print(number)\n",
    "  number += 1"
   ]
  },
  {
   "cell_type": "markdown",
   "metadata": {},
   "source": [
    "# Example 3\n",
    "\n",
    "Printing number that is less than 20"
   ]
  },
  {
   "cell_type": "code",
   "execution_count": 34,
   "metadata": {},
   "outputs": [
    {
     "name": "stdout",
     "output_type": "stream",
     "text": [
      "8 is less than 20\n",
      "9 is less than 20\n",
      "10 is less than 20\n",
      "11 is less than 20\n",
      "12 is less than 20\n",
      "13 is less than 20\n",
      "14 is less than 20\n",
      "15 is less than 20\n",
      "16 is less than 20\n",
      "17 is less than 20\n",
      "18 is less than 20\n",
      "19 is less than 20\n"
     ]
    }
   ],
   "source": [
    "a = 8\n",
    "\n",
    "while a < 20:\n",
    "    print(\"{} is less than 20\".format(a))\n",
    "    a = a + 1"
   ]
  },
  {
   "cell_type": "markdown",
   "metadata": {},
   "source": [
    "# Example 4\n",
    "\n",
    "Printing number that is less than 20"
   ]
  },
  {
   "cell_type": "code",
   "execution_count": 35,
   "metadata": {},
   "outputs": [
    {
     "name": "stdout",
     "output_type": "stream",
     "text": [
      "x is currently\n",
      "0\n",
      "\n",
      "Adding 1 to x\n",
      "x is currently\n",
      "1\n",
      "\n",
      "Adding 1 to x\n",
      "x is currently\n",
      "2\n",
      "\n",
      "Adding 1 to x\n",
      "x is currently\n",
      "3\n",
      "\n",
      "Adding 1 to x\n",
      "x is currently\n",
      "4\n",
      "\n",
      "Adding 1 to x\n"
     ]
    }
   ],
   "source": [
    "# Start by setting variable x to 0\n",
    "x = 0\n",
    "\n",
    "while x < 5:\n",
    "    print('x is currently')\n",
    "    print(x)\n",
    "    print(\"\\nAdding 1 to x\") # \\n is to print to a new line\n",
    "    x = x + 1 # alternatively you could write x += 1"
   ]
  },
  {
   "cell_type": "markdown",
   "metadata": {},
   "source": [
    "____\n",
    "# Warning\n",
    "Be careful with the while loop! There is a potential to write a condition that always remains True. That is, you have an infinite while loop. If this happens to you, you can stop/restart the kernel."
   ]
  },
  {
   "cell_type": "markdown",
   "metadata": {},
   "source": [
    "# The continue Statement\n",
    "\n",
    "\n",
    "With the continue statement we can stop the current operation or iterator, and continue with the next:\n",
    "\n",
    "## Example 1\n",
    "\n",
    "Continue to the next iteration if i is 4:"
   ]
  },
  {
   "cell_type": "code",
   "execution_count": 36,
   "metadata": {},
   "outputs": [
    {
     "name": "stdout",
     "output_type": "stream",
     "text": [
      "1\n",
      "2\n",
      "3\n",
      "5\n",
      "6\n",
      "7\n",
      "8\n",
      "9\n",
      "10\n"
     ]
    }
   ],
   "source": [
    "i = 0\n",
    "while i < 10:\n",
    "  i += 1\n",
    "  if i == 4:\n",
    "    continue\n",
    "  print(i)"
   ]
  },
  {
   "cell_type": "markdown",
   "metadata": {},
   "source": [
    "## Example 2\n",
    "\n",
    "Continue to the next iteration if number is 7:"
   ]
  },
  {
   "cell_type": "code",
   "execution_count": 37,
   "metadata": {},
   "outputs": [
    {
     "name": "stdout",
     "output_type": "stream",
     "text": [
      "1\n",
      "2\n",
      "3\n",
      "4\n",
      "5\n",
      "6\n",
      "8\n",
      "9\n",
      "10\n"
     ]
    }
   ],
   "source": [
    "number = 0\n",
    "while number < 10:\n",
    "  number += 1\n",
    "  if number == 7:\n",
    "    continue\n",
    "  print(number)"
   ]
  },
  {
   "cell_type": "markdown",
   "metadata": {},
   "source": [
    "# The break Statement\n",
    "\n",
    "With the break statement we can stop the loop even if the while condition is True.\n",
    "\n",
    "## Example 1\n",
    "\n",
    "Exit the while loop when i is 10:"
   ]
  },
  {
   "cell_type": "code",
   "execution_count": 38,
   "metadata": {},
   "outputs": [
    {
     "name": "stdout",
     "output_type": "stream",
     "text": [
      "1\n",
      "2\n",
      "3\n",
      "4\n",
      "5\n",
      "6\n",
      "7\n",
      "8\n",
      "9\n",
      "10\n"
     ]
    }
   ],
   "source": [
    "i = 1\n",
    "while i < 15:\n",
    "  print(i)\n",
    "  if i == 10:\n",
    "    break\n",
    "  i += 1"
   ]
  },
  {
   "cell_type": "markdown",
   "metadata": {},
   "source": [
    "## Example 2\n",
    "\n",
    "Exit the while loop when x is 3:"
   ]
  },
  {
   "cell_type": "code",
   "execution_count": 39,
   "metadata": {},
   "outputs": [
    {
     "name": "stdout",
     "output_type": "stream",
     "text": [
      "0\n",
      "1\n",
      "2\n",
      "3\n"
     ]
    }
   ],
   "source": [
    "x = 0\n",
    "\n",
    "while x < 10:\n",
    "    print(x)\n",
    "    if x == 3:\n",
    "        break\n",
    "    x = x +1"
   ]
  },
  {
   "cell_type": "markdown",
   "metadata": {},
   "source": [
    "## Example 3\n",
    "\n",
    "Exit the while loop when x > 12:"
   ]
  },
  {
   "cell_type": "code",
   "execution_count": 40,
   "metadata": {},
   "outputs": [
    {
     "name": "stdout",
     "output_type": "stream",
     "text": [
      "0\n",
      "1\n",
      "2\n",
      "3\n",
      "4\n",
      "5\n",
      "6\n",
      "7\n",
      "8\n",
      "9\n",
      "10\n",
      "11\n",
      "12\n",
      "13\n"
     ]
    }
   ],
   "source": [
    "x = 0\n",
    "\n",
    "while x < 20:\n",
    "    print(x)\n",
    "    if x > 12:\n",
    "        break\n",
    "    x = x + 1"
   ]
  },
  {
   "cell_type": "markdown",
   "metadata": {},
   "source": [
    "# General tips\n",
    "\n",
    "## \"break\" and \"continue\" statements\n",
    "\n",
    "break is used to exit a for loop or a while loop, whereas continue is used to skip the current block, and return to the \"for\" or \"while\" statement. A few examples:"
   ]
  },
  {
   "cell_type": "markdown",
   "metadata": {},
   "source": [
    "# Summary of loops\n",
    "\n",
    "\n",
    "![](Images/continue-statment.jpg) ![](Images/break-statement.jpg)"
   ]
  }
 ],
 "metadata": {
  "kernelspec": {
   "display_name": "Python 3",
   "language": "python",
   "name": "python3"
  },
  "language_info": {
   "codemirror_mode": {
    "name": "ipython",
    "version": 3
   },
   "file_extension": ".py",
   "mimetype": "text/x-python",
   "name": "python",
   "nbconvert_exporter": "python",
   "pygments_lexer": "ipython3",
   "version": "3.8.5"
  }
 },
 "nbformat": 4,
 "nbformat_minor": 4
}
