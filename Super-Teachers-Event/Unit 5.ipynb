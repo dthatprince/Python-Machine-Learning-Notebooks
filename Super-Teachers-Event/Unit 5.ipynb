{
 "cells": [
  {
   "cell_type": "markdown",
   "metadata": {},
   "source": [
    "![](Images/banner.jpeg)"
   ]
  },
  {
   "cell_type": "markdown",
   "metadata": {},
   "source": [
    "# Introduction to Python Functions and Packages\n",
    "\n",
    "## What you stand to gain in this unit\n",
    "\n",
    "Upon completion of this study unit, you should be able to:\n",
    "\n",
    "- write a function to solve problem with Python\n",
    "\n",
    "- import different packages in Python to do some tasks"
   ]
  },
  {
   "cell_type": "markdown",
   "metadata": {},
   "source": [
    "# Python functions"
   ]
  },
  {
   "cell_type": "markdown",
   "metadata": {},
   "source": [
    "Python function is a block of organized and reusable code that is used to perform a single and related action. It is a piece of code that runs when it is called or referenced. Python provides many inbuilt functions like `print()`, `input()`, `type()`, `len()`, etc. but it also gives freedom to create your own functions.\n",
    "\n",
    "![](images/function.png)"
   ]
  },
  {
   "cell_type": "markdown",
   "metadata": {},
   "source": [
    "# Types of Functions\n",
    "\n",
    "Function extends the functionality of Python. Basically, we can categorize functions into the following two types:\n",
    "\n",
    "**Built-in functions** - Functions that are pre-defined in Python\n",
    "\n",
    "**User-defined functions** - Functions defined by the users themselves"
   ]
  },
  {
   "cell_type": "markdown",
   "metadata": {},
   "source": [
    "## Advantages of Python Functions\n",
    "\n",
    "Function allows us to automate repetitive tasks in a more powerful way than copy-and-pasting. Writing a function has the following advantages:\n",
    "\n",
    "- As something changes, you only need to update code in one place, instead of many places.\n",
    "\n",
    "- it avoids repetition and makes the code reusable.\n",
    "\n",
    "- Improves maintainability of the code."
   ]
  },
  {
   "cell_type": "markdown",
   "metadata": {},
   "source": [
    "## When should you write a function?\n",
    "\n",
    "You should consider writing a function whenever you copy and paste a block of code more than two times.\n"
   ]
  },
  {
   "cell_type": "markdown",
   "metadata": {},
   "source": [
    "## Creating a function in Python\n",
    "\n",
    "You can define functions by following the rules below:\n",
    "\n",
    "* Function blocks begin with the keyword **def** followed by the `function_name`, parentheses `()`, a colon (`:`), and is indented. Function name follows the same rules of naming variables in Python.\n",
    "\n",
    "* Any parameters or arguments should be placed within these parentheses. You can add as many arguments as you want, just separate them with a comma. Parameters (arguments) helps to pass values to a function. They may be optional sometimes.\n",
    "\n",
    "* A colon (:) to mark the end of the function header.\n",
    "\n",
    "* Optional documentation string (docstring) to describe what the function does (for documentation purposes).\n",
    "\n",
    "* One or more valid python statements that make up the function body. Statements must have the same indentation level (Jupyter lab/notebook does this for you when you press return button after the colon mark).\n",
    "\n",
    "* Functions may return a value to the caller, using `return` statement. This is optional.\n",
    "\n",
    "\n",
    "## Function syntax\n",
    "\n",
    "```python\n",
    "def functionname(parameters):\n",
    "   \"function_docstring descrinng what the function does\"\n",
    "\n",
    "   # list of expressions to be executed\n",
    "    \n",
    "   return (expression)\n",
    "```\n",
    "\n",
    "In graphical form, here is a function that returns the sum of two given numbers\n",
    "\n",
    "![](Images/Function_.png)"
   ]
  },
  {
   "cell_type": "markdown",
   "metadata": {},
   "source": [
    "# Tip\n",
    "\n",
    "The terms parameter and argument can be used for the same thing: information that are passed into a function."
   ]
  },
  {
   "cell_type": "markdown",
   "metadata": {},
   "source": [
    "## Calling a Function in Python\n",
    "\n",
    "You can call a function by its name. If the function accepts parameters or arguments, you will have to pass them while calling the function."
   ]
  },
  {
   "cell_type": "markdown",
   "metadata": {},
   "source": [
    "# Example 1"
   ]
  },
  {
   "cell_type": "code",
   "execution_count": 1,
   "metadata": {},
   "outputs": [],
   "source": [
    "def sum_two_numbers(a, b):\n",
    "    \"This function add two numbers together\"\n",
    "    return (a + b)"
   ]
  },
  {
   "cell_type": "code",
   "execution_count": 2,
   "metadata": {},
   "outputs": [
    {
     "data": {
      "text/plain": [
       "16"
      ]
     },
     "execution_count": 2,
     "metadata": {},
     "output_type": "execute_result"
    }
   ],
   "source": [
    "sum_two_numbers(9, 7)"
   ]
  },
  {
   "cell_type": "markdown",
   "metadata": {},
   "source": [
    "Since function is reusable. We can also get the sum of $6$ and $9$ by using the `sum_two_numbers()` function"
   ]
  },
  {
   "cell_type": "code",
   "execution_count": 3,
   "metadata": {},
   "outputs": [
    {
     "data": {
      "text/plain": [
       "15"
      ]
     },
     "execution_count": 3,
     "metadata": {},
     "output_type": "execute_result"
    }
   ],
   "source": [
    "sum_two_numbers(6, 9)"
   ]
  },
  {
   "cell_type": "markdown",
   "metadata": {},
   "source": [
    "# Indentation error"
   ]
  },
  {
   "cell_type": "markdown",
   "metadata": {},
   "source": [
    "If your code is not well indented inside a function, it will throw an error. For example,"
   ]
  },
  {
   "cell_type": "code",
   "execution_count": 4,
   "metadata": {},
   "outputs": [
    {
     "ename": "IndentationError",
     "evalue": "unexpected indent (<ipython-input-4-ed23e87d8ece>, line 4)",
     "output_type": "error",
     "traceback": [
      "\u001b[1;36m  File \u001b[1;32m\"<ipython-input-4-ed23e87d8ece>\"\u001b[1;36m, line \u001b[1;32m4\u001b[0m\n\u001b[1;33m    return (y)\u001b[0m\n\u001b[1;37m    ^\u001b[0m\n\u001b[1;31mIndentationError\u001b[0m\u001b[1;31m:\u001b[0m unexpected indent\n"
     ]
    }
   ],
   "source": [
    "def sum_two_numbers(a, b):\n",
    "    \"This function add two numbers together\"\n",
    "y = a + b\n",
    "    return (y)"
   ]
  },
  {
   "cell_type": "markdown",
   "metadata": {},
   "source": [
    "### Example 2\n",
    "\n",
    "The following function takes two numbers as arguments and prints out their sum:"
   ]
  },
  {
   "cell_type": "code",
   "execution_count": 5,
   "metadata": {},
   "outputs": [],
   "source": [
    "def add(x, y):\n",
    "    \"This function add two numbers together in another form\"\n",
    "    print(f\"The sum of {x} and {y} is {x+y}\")"
   ]
  },
  {
   "cell_type": "code",
   "execution_count": 6,
   "metadata": {},
   "outputs": [
    {
     "name": "stdout",
     "output_type": "stream",
     "text": [
      "The sum of 2 and 6 is 8\n"
     ]
    }
   ],
   "source": [
    "add(2, 6)"
   ]
  },
  {
   "cell_type": "markdown",
   "metadata": {},
   "source": [
    "**You may also specify function arguments and supply their values** "
   ]
  },
  {
   "cell_type": "code",
   "execution_count": 7,
   "metadata": {},
   "outputs": [
    {
     "name": "stdout",
     "output_type": "stream",
     "text": [
      "The sum of 10 and 32 is 42\n"
     ]
    }
   ],
   "source": [
    "add(x = 10, y = 32) "
   ]
  },
  {
   "cell_type": "markdown",
   "metadata": {},
   "source": [
    "## Default arguments in a function\n",
    "\n",
    "A default argument is an argument that assumes a default value if a value is not provided in the function call for that argument. The following example gives an idea on default arguments, it prints default age if it is not passed."
   ]
  },
  {
   "cell_type": "code",
   "execution_count": 8,
   "metadata": {},
   "outputs": [],
   "source": [
    "def printinfo(age=25, gender = \"Female\"):\n",
    "    \"This prints the info about a person\"\n",
    "    print(f\"You are a {gender} and your age is {age} years\")"
   ]
  },
  {
   "cell_type": "code",
   "execution_count": 9,
   "metadata": {},
   "outputs": [
    {
     "name": "stdout",
     "output_type": "stream",
     "text": [
      "You are a Female and your age is 25 years\n"
     ]
    }
   ],
   "source": [
    "printinfo()"
   ]
  },
  {
   "cell_type": "code",
   "execution_count": 10,
   "metadata": {},
   "outputs": [
    {
     "name": "stdout",
     "output_type": "stream",
     "text": [
      "You are a Female and your age is 19 years\n"
     ]
    }
   ],
   "source": [
    "printinfo(age= 19)"
   ]
  },
  {
   "cell_type": "code",
   "execution_count": 11,
   "metadata": {},
   "outputs": [
    {
     "name": "stdout",
     "output_type": "stream",
     "text": [
      "You are a Male and your age is 20 years\n"
     ]
    }
   ],
   "source": [
    "printinfo(age = 20, gender= \"Male\")"
   ]
  },
  {
   "cell_type": "markdown",
   "metadata": {},
   "source": [
    "# Example 3\n",
    "\n",
    "This function prints out the demographic information about a student taken a particular course"
   ]
  },
  {
   "cell_type": "code",
   "execution_count": 12,
   "metadata": {},
   "outputs": [
    {
     "name": "stdout",
     "output_type": "stream",
     "text": [
      "Information about a student in SS 2 class:\n",
      "Name: Ishola\n",
      "Age: 15\n",
      "Gender: Male\n",
      "State: Ibadan\n"
     ]
    }
   ],
   "source": [
    "def student_info(name, age, gender, class_, state):\n",
    "   print(f\"Information about a student in {class_} class:\")\n",
    "   print (\"Name:\", name)\n",
    "   print (\"Age:\", age)\n",
    "   print (\"Gender:\", gender)\n",
    "   print(\"State:\", state)\n",
    "\n",
    "# Now you can call student_info function\n",
    "student_info(name = \"Ishola\", age = 15, gender = \"Male\", class_ = \"SS 2\", state= \"Ibadan\")"
   ]
  },
  {
   "cell_type": "code",
   "execution_count": 13,
   "metadata": {},
   "outputs": [
    {
     "name": "stdout",
     "output_type": "stream",
     "text": [
      "Information about a student in SS 3 class:\n",
      "Name: Ife\n",
      "Age: 18\n",
      "Gender: Female\n",
      "State: Ogun\n"
     ]
    }
   ],
   "source": [
    "student_info(name = \"Ife\", age = 18, gender = \"Female\", class_ = \"SS 3\", state = \"Ogun\")"
   ]
  },
  {
   "cell_type": "markdown",
   "metadata": {},
   "source": [
    "# Example  4"
   ]
  },
  {
   "cell_type": "markdown",
   "metadata": {},
   "source": [
    "Your function can also take user input. For example:"
   ]
  },
  {
   "cell_type": "code",
   "execution_count": 14,
   "metadata": {},
   "outputs": [
    {
     "name": "stdin",
     "output_type": "stream",
     "text": [
      "Please enter a number to check for odd or even 12\n"
     ]
    },
    {
     "name": "stdout",
     "output_type": "stream",
     "text": [
      "12 is an even number\n"
     ]
    }
   ],
   "source": [
    "number = int(input(\"Please enter a number to check for odd or even\"))\n",
    "\n",
    "def odd_even_checker(number):\n",
    "    if number % 2 == 0:\n",
    "        print(f\"{number} is an even number\")\n",
    "    else:\n",
    "        print(f\"{number} is an odd number\")\n",
    "    \n",
    "odd_even_checker(number)"
   ]
  },
  {
   "cell_type": "code",
   "execution_count": 15,
   "metadata": {},
   "outputs": [
    {
     "name": "stdin",
     "output_type": "stream",
     "text": [
      "Please enter a number to check for odd or even 11\n"
     ]
    },
    {
     "name": "stdout",
     "output_type": "stream",
     "text": [
      "11 is an odd number\n"
     ]
    }
   ],
   "source": [
    "number = int(input(\"Please enter a number to check for odd or even\"))\n",
    "odd_even_checker(number)"
   ]
  },
  {
   "cell_type": "markdown",
   "metadata": {},
   "source": [
    "# Warning\n",
    "\n",
    "A function can have multiple return statements. However, when one of the return statement is True, the function execution will terminate and the value is returned to the caller.\n",
    "\n",
    "# Example 5"
   ]
  },
  {
   "cell_type": "code",
   "execution_count": 16,
   "metadata": {},
   "outputs": [
    {
     "data": {
      "text/plain": [
       "'Even'"
      ]
     },
     "execution_count": 16,
     "metadata": {},
     "output_type": "execute_result"
    }
   ],
   "source": [
    "def even_odd_checker(number):\n",
    "    if number % 2 == 0:\n",
    "        return(\"Even\")\n",
    "    else:\n",
    "        return(\"Odd\")\n",
    "    \n",
    "even_odd_checker(14)"
   ]
  },
  {
   "cell_type": "code",
   "execution_count": 17,
   "metadata": {},
   "outputs": [
    {
     "data": {
      "text/plain": [
       "'Odd'"
      ]
     },
     "execution_count": 17,
     "metadata": {},
     "output_type": "execute_result"
    }
   ],
   "source": [
    "even_odd_checker(number= 19)"
   ]
  },
  {
   "cell_type": "markdown",
   "metadata": {},
   "source": [
    "# Example 6\n",
    " \n",
    "This task was taken from DataCamp!\n",
    "\n",
    "Add a function named list_benefits() that returns the following list of strings: \"More organized code\", \"More readable code\", \"Easier code reuse\", \"Allowing programmers to share and connect code together\""
   ]
  },
  {
   "cell_type": "code",
   "execution_count": 18,
   "metadata": {},
   "outputs": [],
   "source": [
    "list_of_strings = [\"More organized code\", \"More readable code\", \"Easier code reuse\", \n",
    "                   \"Allowing programmers to share and connect code together\"]\n",
    "\n",
    "def list_benefits():\n",
    "    for string in list_of_strings:\n",
    "        print(string) # If you use return statement instead of print, only \"More organised code\" will be returned"
   ]
  },
  {
   "cell_type": "code",
   "execution_count": 19,
   "metadata": {},
   "outputs": [
    {
     "name": "stdout",
     "output_type": "stream",
     "text": [
      "More organized code\n",
      "More readable code\n",
      "Easier code reuse\n",
      "Allowing programmers to share and connect code together\n"
     ]
    }
   ],
   "source": [
    "list_benefits()"
   ]
  },
  {
   "cell_type": "markdown",
   "metadata": {},
   "source": [
    "Alternatively, we can write it in this way:"
   ]
  },
  {
   "cell_type": "code",
   "execution_count": 20,
   "metadata": {},
   "outputs": [
    {
     "name": "stdout",
     "output_type": "stream",
     "text": [
      "More organized code\n",
      "More readable code\n",
      "Easier code reuse\n",
      "Allowing programmers to share and connect code together\n"
     ]
    }
   ],
   "source": [
    "def list_benefits(benefit):\n",
    "    for i in benefit:\n",
    "        print(i) \n",
    "        \n",
    "list_of_strings = [\"More organized code\", \"More readable code\", \"Easier code reuse\", \n",
    "                   \"Allowing programmers to share and connect code together\"]\n",
    "\n",
    "list_benefits(list_of_strings)"
   ]
  },
  {
   "cell_type": "markdown",
   "metadata": {},
   "source": [
    "# Class activity 1\n",
    "\n",
    "1. Write a function that asks the user to enter two numbers. This function will print their sum and their difference each on a single line.\n",
    "\n",
    "2. Write a function that prompts the user to enter an integer `n` and outputs the letter \"x\", n times on a\n",
    "single line, without a space.\n",
    "\n",
    "3. Write a function to convert to Fahrenheit a temperature given in degree Celcius.\n",
    "\n",
    "  You can use this formula:\n",
    "\n",
    "  Tc ∗ 1.8 + 32\n",
    "\n",
    "  where Tc is the celcius degree to be converted.\n",
    "\n",
    "Use your function to convert the following Celcius to Fahrenheit\n",
    "\n",
    "-  100\n",
    "\n",
    "- 75\n",
    "\n",
    "- 120"
   ]
  },
  {
   "cell_type": "markdown",
   "metadata": {},
   "source": [
    "# Anonymous function"
   ]
  },
  {
   "cell_type": "markdown",
   "metadata": {},
   "source": [
    "Anonymous functions doesn’t have a name and is not declared in the standard manner of a fuction by using the `def` keyword. We can define anonymous function in Python using `lambda` keyword.\n",
    "\n",
    "## Syntax\n",
    "\n",
    "```python\n",
    "lambda arguments : expression\n",
    "\n",
    "```"
   ]
  },
  {
   "cell_type": "markdown",
   "metadata": {},
   "source": [
    "# Tip\n",
    "\n",
    "Anonymous function is also known as `lambda` function. The expression in the `lambda` function is executed and the result is returned"
   ]
  },
  {
   "cell_type": "markdown",
   "metadata": {},
   "source": [
    "# Example 1\n",
    "\n",
    "Write an anonymous function to find the square of a given number"
   ]
  },
  {
   "cell_type": "code",
   "execution_count": 21,
   "metadata": {},
   "outputs": [],
   "source": [
    "square = lambda x : x ** 2"
   ]
  },
  {
   "cell_type": "markdown",
   "metadata": {},
   "source": [
    "The argument of this function is `x` while `x ** 2` is the expression that we want the function to evaluate. A lambda function can take any number of arguments, but can only have one expression. You can call an anonymous function by its name and supply values to its arguments."
   ]
  },
  {
   "cell_type": "code",
   "execution_count": 22,
   "metadata": {},
   "outputs": [
    {
     "data": {
      "text/plain": [
       "100"
      ]
     },
     "execution_count": 22,
     "metadata": {},
     "output_type": "execute_result"
    }
   ],
   "source": [
    "square(x = 10)"
   ]
  },
  {
   "cell_type": "code",
   "execution_count": 23,
   "metadata": {},
   "outputs": [
    {
     "data": {
      "text/plain": [
       "64"
      ]
     },
     "execution_count": 23,
     "metadata": {},
     "output_type": "execute_result"
    }
   ],
   "source": [
    "square(8)"
   ]
  },
  {
   "cell_type": "markdown",
   "metadata": {},
   "source": [
    "# Example 2\n",
    "\n",
    "Multiply two numbers together and return the result:"
   ]
  },
  {
   "cell_type": "code",
   "execution_count": 24,
   "metadata": {},
   "outputs": [],
   "source": [
    "product = lambda x, y : x * y"
   ]
  },
  {
   "cell_type": "code",
   "execution_count": 25,
   "metadata": {},
   "outputs": [
    {
     "data": {
      "text/plain": [
       "12"
      ]
     },
     "execution_count": 25,
     "metadata": {},
     "output_type": "execute_result"
    }
   ],
   "source": [
    "product(2, 6)"
   ]
  },
  {
   "cell_type": "code",
   "execution_count": 26,
   "metadata": {},
   "outputs": [
    {
     "data": {
      "text/plain": [
       "16"
      ]
     },
     "execution_count": 26,
     "metadata": {},
     "output_type": "execute_result"
    }
   ],
   "source": [
    "product(2, 8)"
   ]
  },
  {
   "cell_type": "markdown",
   "metadata": {},
   "source": [
    "# Class activity\n",
    "\n",
    "Create a lambda function to calculate the difference between two numbers.\n"
   ]
  },
  {
   "cell_type": "markdown",
   "metadata": {},
   "source": [
    "# Introduction to Python libraries"
   ]
  },
  {
   "cell_type": "markdown",
   "metadata": {},
   "source": [
    "A library is a collection of Python functions that are written in Modules to extends basic Python functionality. A library can contain a set of functions relating to a specific topic or tasks. For example, Pandas for data manipulation and analysis, Numpy for scientific computing and manipulatin n-dimensional arrays, Matplotlib and Seaborn for data visualization while scikit-learn is for building machine learning models.\n",
    "\n",
    "# Tip\n",
    "\n",
    "Module is a file which contains various Python functions with the `.py` extension file which has python executable code.\n",
    "\n",
    "Package is a collection of modules. \n",
    "\n",
    "Library is a collection of packages.\n",
    "\n",
    "\n",
    "\n",
    "\n",
    "# How to import Python package\n",
    "\n",
    "Before you can use any function in a package, you will need to import the module that has that function. To import a module, simply type\n",
    "\n",
    "```python\n",
    "import module_name\n",
    "```\n",
    "For example, if I want to import a `numpy` module, I will type\n",
    "\n",
    "```python\n",
    "import numpy\n",
    "```\n",
    "\n",
    "The following statement allows us to use a module attribute (or function).\n",
    "\n",
    "`module_name.attribute`\n",
    "\n",
    "\n",
    "This means that we will have to refer to the function in dot notation, as in `module_name.function`\n",
    "\n",
    "---\n",
    "The numpy module provides various scientific functions e.g. trigonometric functions, exponent, logarithm, and mathematical constant."
   ]
  },
  {
   "cell_type": "code",
   "execution_count": 27,
   "metadata": {},
   "outputs": [],
   "source": [
    "import numpy"
   ]
  },
  {
   "cell_type": "markdown",
   "metadata": {},
   "source": [
    "We can use the module in the following ways:"
   ]
  },
  {
   "cell_type": "markdown",
   "metadata": {},
   "source": [
    "# Example 1\n",
    "\n",
    "For the constant  $\\pi$ (`pi`) which is rounded to 3.142"
   ]
  },
  {
   "cell_type": "code",
   "execution_count": 28,
   "metadata": {},
   "outputs": [
    {
     "data": {
      "text/plain": [
       "3.141592653589793"
      ]
     },
     "execution_count": 28,
     "metadata": {},
     "output_type": "execute_result"
    }
   ],
   "source": [
    "numpy.pi"
   ]
  },
  {
   "cell_type": "markdown",
   "metadata": {},
   "source": [
    "# Example 2\n",
    "\n",
    "For the square root of 16 $\\big(\\sqrt{16}\\big)$"
   ]
  },
  {
   "cell_type": "code",
   "execution_count": 29,
   "metadata": {},
   "outputs": [
    {
     "data": {
      "text/plain": [
       "4.0"
      ]
     },
     "execution_count": 29,
     "metadata": {},
     "output_type": "execute_result"
    }
   ],
   "source": [
    "numpy.sqrt(16)"
   ]
  },
  {
   "cell_type": "markdown",
   "metadata": {},
   "source": [
    "---\n",
    "\n",
    "To load selected functions from a module, we use the following syntax\n",
    "\n",
    "```python\n",
    "from module_name import funcname\n",
    "```\n",
    "\n",
    "For example, import only `sqrt`, `pi`, `floor` from `numpy` module"
   ]
  },
  {
   "cell_type": "code",
   "execution_count": 30,
   "metadata": {},
   "outputs": [],
   "source": [
    "from numpy import sqrt, pi, floor"
   ]
  },
  {
   "cell_type": "markdown",
   "metadata": {},
   "source": [
    "You can then use those functions without referencing numpy again. \n",
    "\n",
    "# Example 1"
   ]
  },
  {
   "cell_type": "code",
   "execution_count": 31,
   "metadata": {},
   "outputs": [
    {
     "data": {
      "text/plain": [
       "8.0"
      ]
     },
     "execution_count": 31,
     "metadata": {},
     "output_type": "execute_result"
    }
   ],
   "source": [
    "sqrt(64)"
   ]
  },
  {
   "cell_type": "markdown",
   "metadata": {},
   "source": [
    "# Example 2"
   ]
  },
  {
   "cell_type": "code",
   "execution_count": 32,
   "metadata": {},
   "outputs": [
    {
     "data": {
      "text/plain": [
       "3.141592653589793"
      ]
     },
     "execution_count": 32,
     "metadata": {},
     "output_type": "execute_result"
    }
   ],
   "source": [
    "pi"
   ]
  },
  {
   "cell_type": "markdown",
   "metadata": {},
   "source": [
    "# Example 3"
   ]
  },
  {
   "cell_type": "code",
   "execution_count": 33,
   "metadata": {},
   "outputs": [
    {
     "data": {
      "text/plain": [
       "3.0"
      ]
     },
     "execution_count": 33,
     "metadata": {},
     "output_type": "execute_result"
    }
   ],
   "source": [
    "floor(3.141592653589793) # This function only returns the integar part."
   ]
  },
  {
   "cell_type": "markdown",
   "metadata": {},
   "source": [
    "# Importing packages with alias"
   ]
  },
  {
   "cell_type": "markdown",
   "metadata": {},
   "source": [
    "It is common for Python users to import packages with some alias. Alias helps us to shorten the name of the packages while referencing a certain function with it. \n",
    "\n",
    "The syntax looks like this:\n",
    "\n",
    "```python\n",
    "import module_name as another_name\n",
    "```\n",
    "\n",
    "For example,"
   ]
  },
  {
   "cell_type": "code",
   "execution_count": 34,
   "metadata": {},
   "outputs": [],
   "source": [
    "import numpy as np"
   ]
  },
  {
   "cell_type": "markdown",
   "metadata": {},
   "source": [
    "We can now refer to the function as `np.function_name` rather than `numpy.function_name`"
   ]
  },
  {
   "cell_type": "markdown",
   "metadata": {},
   "source": [
    "# Example 1\n",
    "\n",
    "For the constant  $\\pi$ (`pi`) which is rounded to 3.142"
   ]
  },
  {
   "cell_type": "code",
   "execution_count": 35,
   "metadata": {},
   "outputs": [
    {
     "data": {
      "text/plain": [
       "3.141592653589793"
      ]
     },
     "execution_count": 35,
     "metadata": {},
     "output_type": "execute_result"
    }
   ],
   "source": [
    "np.pi"
   ]
  },
  {
   "cell_type": "markdown",
   "metadata": {},
   "source": [
    "# Example 2\n",
    "\n",
    "For the square root of 16 $\\big(\\sqrt{16}\\big)$"
   ]
  },
  {
   "cell_type": "code",
   "execution_count": 36,
   "metadata": {},
   "outputs": [
    {
     "data": {
      "text/plain": [
       "4.0"
      ]
     },
     "execution_count": 36,
     "metadata": {},
     "output_type": "execute_result"
    }
   ],
   "source": [
    "np.sqrt(16)"
   ]
  },
  {
   "cell_type": "markdown",
   "metadata": {},
   "source": [
    "For some modules, it is commonplace to use aliases. for example:"
   ]
  },
  {
   "cell_type": "code",
   "execution_count": null,
   "metadata": {},
   "outputs": [],
   "source": [
    "import pandas as pd\n",
    "\n",
    "import matplotlib.pyplot as plt\n",
    "\n",
    "import seaborn as sns"
   ]
  }
 ],
 "metadata": {
  "kernelspec": {
   "display_name": "Python 3",
   "language": "python",
   "name": "python3"
  },
  "language_info": {
   "codemirror_mode": {
    "name": "ipython",
    "version": 3
   },
   "file_extension": ".py",
   "mimetype": "text/x-python",
   "name": "python",
   "nbconvert_exporter": "python",
   "pygments_lexer": "ipython3",
   "version": "3.8.8"
  }
 },
 "nbformat": 4,
 "nbformat_minor": 4
}
