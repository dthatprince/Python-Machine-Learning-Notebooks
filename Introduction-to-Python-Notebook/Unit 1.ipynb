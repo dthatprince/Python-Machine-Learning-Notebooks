{
 "cells": [
  {
   "cell_type": "markdown",
   "metadata": {},
   "source": [
    "## Course Overview "
   ]
  },
  {
   "cell_type": "markdown",
   "metadata": {},
   "source": [
    "Upon completion of this study unit, you should be able to:    \n",
    "\n",
    "- Describe various computer programming languages\n",
    "\n",
    "- Work with Anaconda navigator   \n",
    "\n",
    "- Open Jupyter lab and/or Jupyter notebook\n",
    "\n",
    "-  Navigate through Jupyter Lab interface\n",
    "\n",
    "- Perform basic arithmetic operations in Python\n",
    "\n",
    "- Work with different data types\n",
    "\n",
    "- Assign values to variables and be guided with variable naming convention\n",
    "\n",
    "- Work with comparison and logical operators\n",
    "\n"
   ]
  },
  {
   "cell_type": "markdown",
   "metadata": {},
   "source": [
    "# Introduction to programming\n",
    "\n",
    "Programming is a way of instructing the computer to perform various tasks. These instructions are written in a language that the computer understands. The instruction could be as simple as:\n",
    "\n",
    "1. Adding the population of Ibadan and Lagos.\n",
    "2. What is the square root of 16?\n",
    "\n",
    "Just like Northern region can understand Hausa, Western region understands Yoruba, and Eastern region understands Igbo, so is the case with computers. Computers understand instructions that are written in a specific syntax called a programming language."
   ]
  },
  {
   "cell_type": "markdown",
   "metadata": {},
   "source": [
    "# What is Programming Language "
   ]
  },
  {
   "cell_type": "markdown",
   "metadata": {},
   "source": [
    "A programming language is the set of instructions through which we can interact with computers. This instruction(s) are given in form of syntax or codes by a computer programmer to execute certain tasks. Programmers use specialized languages to communicate with computers for a certain task.  Some of the popular Programming languages are Python, C, C++, Java, JavaScript, and R."
   ]
  },
  {
   "cell_type": "markdown",
   "metadata": {},
   "source": [
    "![](Images/list.png)\n",
    "\n",
    "Source: *[Coding Dojo](https://www.codingdojo.com/blog/the-7-most-in-demand-programming-languages-of-2019)*. "
   ]
  },
  {
   "cell_type": "markdown",
   "metadata": {},
   "source": [
    "# Why you should learn Computer Programming?"
   ]
  },
  {
   "cell_type": "markdown",
   "metadata": {},
   "source": [
    "- Programming is fun\n",
    "\n",
    "- Programming increases your critical thinking\n",
    "\n",
    "- You can automate a task easily\n",
    "\n",
    "- You can earn more money by coding\n",
    "\n",
    "- The backbone of a Technology Company"
   ]
  },
  {
   "cell_type": "markdown",
   "metadata": {},
   "source": [
    "# Programing languages for data science\n",
    "\n",
    "There are several programming languages such as Python, R, Scala, and Julia for data science and you that would soon become a data scientist  should learn and master at least one language for data science project. This course will teach you Python programming language.\n",
    "\n",
    "![](Images/lang4datascience.png)"
   ]
  },
  {
   "cell_type": "markdown",
   "metadata": {},
   "source": [
    "Source: *Developed by Ezekiel ([@GBGAnalyst](www.twitter.com/gbganalyst))*"
   ]
  },
  {
   "cell_type": "markdown",
   "metadata": {},
   "source": [
    "# Python Programming language"
   ]
  },
  {
   "cell_type": "markdown",
   "metadata": {},
   "source": [
    "Python is a powerful general-purpose programming language. It is an open-source and easy-to-use language that was created by Guido van Rossum in 1991. Python is used in data science, web development, and so on. Python is one of the most widely used data science programming language in the world today. Its simple easy-to-use syntax makes Python an excellent language to learn to program for beginners. Python was designed for readability, and has some similarities to the English language with influence from mathematics.\n",
    "\n",
    "![image.png](Images/Python-Programming.png)"
   ]
  },
  {
   "cell_type": "markdown",
   "metadata": {},
   "source": [
    "#  Why Python?\n",
    "\n",
    "\n",
    "1. It is easy to learn, and the code is readable.\n",
    "2. It is one of the most popular programming languages\n",
    "3. There is a lot of Open Source contribution on Python. i.e. People has made a lot of free contribution on python to make programming easier for others.\n",
    "4. Instructions are given in a shorter code compared to that of other programming languages. For example, the figure below shows how to print `Hello World`. Mere looking at the code, we would see that python's syntax is shorter and easy to read.\n",
    "\n",
    "![](Images/python3.png)"
   ]
  },
  {
   "cell_type": "markdown",
   "metadata": {},
   "source": [
    "# Important note\n",
    "\n",
    "R is very simple to learn too and has a lot of statistical functionalities. We chose to use Python for this programme"
   ]
  },
  {
   "cell_type": "markdown",
   "metadata": {},
   "source": [
    "# Introduction to Anaconda"
   ]
  },
  {
   "cell_type": "markdown",
   "metadata": {},
   "source": [
    "\n",
    "Anaconda is a distribution of the Python for scientific computing, that aims to simplify package management and deployment. The distribution includes data-science packages suitable for Windows, Linux, and macOS.\n",
    "\n",
    "To install Anaconda, follow the following Steps: \n",
    "\n",
    "1. Download Anaconda Navigator App, https://www.anaconda.com/products/individual#windows\n",
    "\n",
    "![image.png](Images/Ana1.png)\n",
    "\n",
    "2. The output above is what you will see after clicking the link, you can select the operating system you are using. In this case I am using a windows operating system with 64 bit.\n",
    "\n",
    "3. Then your Anaconda will start downloading. After download, then you can install it."
   ]
  },
  {
   "cell_type": "markdown",
   "metadata": {},
   "source": [
    "# Anaconda navigator"
   ]
  },
  {
   "cell_type": "markdown",
   "metadata": {},
   "source": [
    "Anaconda Navigator is a desktop graphical user interface (GUI) included in Anaconda distribution that allows users to launch applications without using command-line commands. \n",
    "\n",
    "![image.png](Images/Ana2.png)"
   ]
  },
  {
   "cell_type": "markdown",
   "metadata": {},
   "source": [
    "You can launch Anaconda Navigator by typing Anaconda Navigator on the search bar, then double click on the Anaconda Navigator (Anconda3)\n",
    "\n",
    "![image.png](Images/Ana3.png)"
   ]
  },
  {
   "cell_type": "markdown",
   "metadata": {},
   "source": [
    "# Introduction to Jupyter Notebook and/or Jupyter Lab\n",
    "\n",
    "Among the applications present in the Anaconda are JupyterLab and Jupyter Notebook\n",
    "\n",
    "![image.png](Images/Ana4.png)\n"
   ]
  },
  {
   "cell_type": "markdown",
   "metadata": {},
   "source": [
    "JupyterLab and/or Notebook is a web application that allows you to create and share documents that contain:\n",
    "\n",
    "* live code (e.g. Python code)\n",
    "\n",
    "* explanatory text (written in markdown syntax)\n",
    "\n",
    "* visualizations\n",
    "\n",
    "This notebook supports Python and other programming languages. It provides an environment for data science enthusiasts who just started out their career in data science field. This IDE supports markdown and enables you to add HTML components, images and videos.\n",
    "\n",
    "\n",
    "\n",
    "\n",
    "\n"
   ]
  },
  {
   "cell_type": "markdown",
   "metadata": {},
   "source": [
    "# Difference between JupyterLab and Jupyter Notebook"
   ]
  },
  {
   "cell_type": "markdown",
   "metadata": {},
   "source": [
    "Both Jupyterlab and Jupyter Notebook are browser compatible interactive python with the extension `.ipynb` where you can divide the various portions of the code into various individually executable cells for the sake of better readability.\n",
    "\n",
    "In Jupyterlab, you can create a Python script directly (`.py`), create notebook (.`ipynb`), open terminal etc. Jupyter Notebook allows for only notebook (`.ipynb`) files while providing you the choice to choose between the two versions of Python i.e. python 2 or python 3.\n",
    "\n",
    "JupyterLab runs in a single tab, with sub-tabs displayed within that one tab while Jupyter Notebook opens new notebooks in new tabs. \n",
    "\n",
    "\n",
    "Jupyterlab can open multiple notebooks (.ipynb) files inside a single browser tab. Whereas, Jupyter Notebook will create new tab to open new notebook (`.ipynb`) files every time. Hovering between various tabs of browser is tedious."
   ]
  },
  {
   "cell_type": "markdown",
   "metadata": {},
   "source": [
    "# JupyterLab interface"
   ]
  },
  {
   "cell_type": "markdown",
   "metadata": {},
   "source": [
    "![](Images/lab.png)\n",
    "\n",
    "---"
   ]
  },
  {
   "cell_type": "markdown",
   "metadata": {},
   "source": [
    "# Jupyter Notebook"
   ]
  },
  {
   "cell_type": "markdown",
   "metadata": {},
   "source": [
    "![](Images/pn1.png)\n",
    "\n",
    "![](Images/pn2.jpg)\n",
    "\n",
    "![](Images/pn3.png)"
   ]
  },
  {
   "cell_type": "markdown",
   "metadata": {},
   "source": [
    "# How to launch JupyterLab and/or Jupyter Notebook"
   ]
  },
  {
   "cell_type": "markdown",
   "metadata": {},
   "source": [
    "Now that you know JupyterLab and/or Jupyter Notebook, let's seee how to launch it.\n",
    "\n",
    "There are two ways of launching JupyterLab and/or Jupyter Notebook.\n",
    "\n",
    "\n",
    "1. Anaconda Navigator\n",
    "\n",
    "2. Through terminal or Anaconda Prompt\n",
    "\n",
    "\n",
    "# Method 1: Anaconda Navigator\n",
    "\n",
    "You can launch Anaconda Navigator by typing Anaconda Navigator on the search bar\n",
    "\n",
    "![image.png](Images/Ana3.png)\n",
    "\n",
    "\n",
    "Locate JupyterLab or Notebook and then click on Launch\n",
    "\n",
    "![image.png](Images/Lab_note.png)"
   ]
  },
  {
   "cell_type": "markdown",
   "metadata": {},
   "source": [
    "# Method 2: Through terminal or Anaconda Prompt"
   ]
  },
  {
   "cell_type": "markdown",
   "metadata": {},
   "source": [
    "We can also launch JupyterLab and/or Jupyter Notebook through the terminal or Anaconda Prompt. To do that, type Anaconda Prompt on the search bar and double click on Anaconda Prompt (Anaconda3)\n",
    "\n",
    "![image.png](Images/terminal.png)"
   ]
  },
  {
   "cell_type": "markdown",
   "metadata": {},
   "source": [
    "A comman prompt window will come up, then type jypyter lab and press enter (or return) from your keyboard.\n",
    "\n",
    "![image.png](Images/lab1.png)"
   ]
  },
  {
   "cell_type": "markdown",
   "metadata": {},
   "source": [
    "Note: For Jupyter Notebook you will type jupyter notebook"
   ]
  },
  {
   "cell_type": "markdown",
   "metadata": {},
   "source": [
    "# How to navigate through JupyterLab notebook Interface \n",
    "\n",
    "After launching JupyterLab, you will see interface to looks like this:\n",
    "\n",
    "![image.png](Images/lab2.png)"
   ]
  },
  {
   "cell_type": "markdown",
   "metadata": {},
   "source": [
    "- `1` shows where you can select a folder or file that may contain your already worked on Jupyter Notebook (`.ipynb`). \n",
    "- `2` shows where you can create a new notebook \n",
    "- `3` shows where to cretae a new script\n",
    "- `4` we can install some new package(s) with the terminal\n"
   ]
  },
  {
   "cell_type": "markdown",
   "metadata": {},
   "source": [
    "Let's start by clicking on Python 3 to create a new notebook"
   ]
  },
  {
   "cell_type": "markdown",
   "metadata": {},
   "source": [
    "![](Images/lab3.png)\n",
    "\n",
    "- `1` a new cell \n",
    "\n",
    "- `2` shows where to change the type of cell. We have `Code` (a pure python code) , `Markdown` (markdown texts) or `Raw` (run it as it is)\n",
    "\n"
   ]
  },
  {
   "cell_type": "markdown",
   "metadata": {},
   "source": [
    "![](Images/lab4.png)\n",
    "  \n",
    "- `1` to save the notebook you are currently working on\n",
    "\n",
    "- `2` to create a new cell\n",
    "\n",
    "- `3` to cut or delete a cell\n",
    "\n",
    "- `4` to copy a cell (which you may want to paste in another cell)\n",
    "\n",
    "- `5` to paste a cell that was initially copied\n",
    "\n",
    "- `6` to run the selected cell\n",
    "\n",
    "- `7` to stop the kernel (to stop Python from working)\n",
    "\n",
    "- `8` to restart the kernel\n",
    "\n",
    "- `9` to restart the kernel and rerun the whole notebook\n",
    "\n",
    "- `10` name of the notebook you are working on\n",
    "\n",
    "- `11` status of the notebook you are working on"
   ]
  },
  {
   "cell_type": "markdown",
   "metadata": {},
   "source": [
    "A cell in Jupyter notebook can accept python code or markdown. For example, the cell that contains what is your name? is a markdown. In a markdown, you can write the full explanatory of what the code does with texts mixed with simple text formatting such as bold face, italic, bulleted list, etc."
   ]
  },
  {
   "cell_type": "markdown",
   "metadata": {},
   "source": [
    "# Example of cells in Markdown"
   ]
  },
  {
   "cell_type": "markdown",
   "metadata": {},
   "source": [
    "What is your name?"
   ]
  },
  {
   "cell_type": "raw",
   "metadata": {},
   "source": [
    "How **old** are you?"
   ]
  },
  {
   "cell_type": "markdown",
   "metadata": {},
   "source": [
    "How **old** are you?"
   ]
  },
  {
   "cell_type": "raw",
   "metadata": {},
   "source": [
    "Python is *simple*!"
   ]
  },
  {
   "cell_type": "markdown",
   "metadata": {},
   "source": [
    "Python is *simple*!"
   ]
  },
  {
   "cell_type": "raw",
   "metadata": {},
   "source": [
    "Here are my favourite countries that I want to visit one day:\n",
    "    \n",
    "- United Kingdom\n",
    "    \n",
    "- Canada\n",
    "\n",
    "- America"
   ]
  },
  {
   "cell_type": "markdown",
   "metadata": {},
   "source": [
    "Here are my favourite countries that I want to visit one day:\n",
    "    \n",
    "- United Kingdom\n",
    "    \n",
    "- Canada\n",
    "\n",
    "- America"
   ]
  },
  {
   "cell_type": "markdown",
   "metadata": {},
   "source": [
    "The cell that contains `2 + 5` is a Python code and you can easily see the result (`7`) immediately below the cell."
   ]
  },
  {
   "cell_type": "markdown",
   "metadata": {},
   "source": [
    "![](Images/code2.png)"
   ]
  }
 ],
 "metadata": {
  "kernelspec": {
   "display_name": "Python 3",
   "language": "python",
   "name": "python3"
  },
  "language_info": {
   "codemirror_mode": {
    "name": "ipython",
    "version": 3
   },
   "file_extension": ".py",
   "mimetype": "text/x-python",
   "name": "python",
   "nbconvert_exporter": "python",
   "pygments_lexer": "ipython3",
   "version": "3.8.5"
  }
 },
 "nbformat": 4,
 "nbformat_minor": 4
}
