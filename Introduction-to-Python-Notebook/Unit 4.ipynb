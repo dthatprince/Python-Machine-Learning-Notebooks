{
 "cells": [
  {
   "cell_type": "markdown",
   "metadata": {},
   "source": [
    "In this section, you will learn conditions and branching in python. Conditions and branching are known as control structures and determine whether a block of code will run or not."
   ]
  },
  {
   "cell_type": "markdown",
   "metadata": {},
   "source": [
    "## What you stand to gain in this unit\n",
    "\n",
    "Upon completion of this study unit, you should be able to:\n",
    "\n",
    "- work with control statement to make some decisions in Python\n",
    "\n",
    "- write a function to solve problem with Python\n",
    "\n",
    "- import different packages in Python to do some tasks"
   ]
  },
  {
   "cell_type": "markdown",
   "metadata": {},
   "source": [
    "# Conditional Statements in Python\n",
    "\n",
    "Majority of the time when programming, we'll need to control the flow of our logic. Our program will want to perform an action in only certain cases, we can use the **if**, **elif**, and **else** statements to control for these cases. Let's work through some examples:"
   ]
  },
  {
   "cell_type": "markdown",
   "metadata": {},
   "source": [
    "## The if and else statement\n",
    "\n",
    "![](Images/ifelse.jpg)\n",
    "\n",
    "\n",
    "The format for an if statement is\n",
    "\n",
    "`if expression:`\n",
    "\n",
    "    Statement 1\n",
    "\n",
    "`else:`\n",
    "\n",
    "    Statement 2\n",
    "  \n",
    "The if statement checks whether the expression evaluates to True, and if so, the statement 1 is executed, otherwise the statement 2 is executed. Note the indentation before the statement 1 and 2 and the colon (`:`) in the `if expression` and `else`."
   ]
  },
  {
   "cell_type": "markdown",
   "metadata": {},
   "source": [
    "# Tips\n",
    "\n",
    "All the comparion operators discused in unit 1 will be useful here."
   ]
  },
  {
   "cell_type": "markdown",
   "metadata": {},
   "source": [
    "## Example 1"
   ]
  },
  {
   "cell_type": "code",
   "execution_count": 2,
   "metadata": {},
   "outputs": [
    {
     "name": "stdout",
     "output_type": "stream",
     "text": [
      "x is less than y\n"
     ]
    }
   ],
   "source": [
    "x = 10\n",
    "\n",
    "y = 22\n",
    "\n",
    "if (x < y):\n",
    "    \n",
    "    print(\"x is less than y\")\n",
    "    \n",
    "else:\n",
    "    print(\"x is greater than y\")"
   ]
  },
  {
   "cell_type": "markdown",
   "metadata": {},
   "source": [
    "## Example 2\n",
    "\n",
    "We can also use the print formating option:"
   ]
  },
  {
   "cell_type": "code",
   "execution_count": 1,
   "metadata": {},
   "outputs": [
    {
     "name": "stdout",
     "output_type": "stream",
     "text": [
      "x = 10 is less than y = 22\n"
     ]
    }
   ],
   "source": [
    "x = 10\n",
    "\n",
    "y = 22\n",
    "\n",
    "if (x < y):\n",
    "    \n",
    "    print(f\"x = {x} is less than y = {y}\")\n",
    "    \n",
    "else:\n",
    "    print(\"x = {x} is greater than y = {y}\")"
   ]
  },
  {
   "cell_type": "markdown",
   "metadata": {},
   "source": [
    "# Example 3\n",
    "\n",
    "Write a python `if else` statement that checks whether a given variable is an even or an odd number."
   ]
  },
  {
   "cell_type": "code",
   "execution_count": 34,
   "metadata": {},
   "outputs": [
    {
     "name": "stdout",
     "output_type": "stream",
     "text": [
      "x is an odd number\n"
     ]
    }
   ],
   "source": [
    "x = 7\n",
    "\n",
    "if (x % 2 == 0):\n",
    "    print(\"x is an even number\")\n",
    "    \n",
    "else:\n",
    "    print(\"x is an odd number\")"
   ]
  },
  {
   "cell_type": "markdown",
   "metadata": {},
   "source": [
    "# Example 4\n",
    "\n",
    "Write a python `if else` statement that checks whether a given value is even or odd number.\n",
    "\n",
    "## Solution\n",
    "\n",
    "We are going to use `input()` function to ask for a value, and as you know, the data type of a variable gotten from an input function is always a string. Therefore, we are going to convert the result to an integer by using `int()` functioon"
   ]
  },
  {
   "cell_type": "code",
   "execution_count": 41,
   "metadata": {},
   "outputs": [
    {
     "name": "stdin",
     "output_type": "stream",
     "text": [
      "Enter any number 45\n"
     ]
    },
    {
     "name": "stdout",
     "output_type": "stream",
     "text": [
      "The number you entered is an odd number\n"
     ]
    }
   ],
   "source": [
    "x = int(input(\"Enter any number\"))\n",
    "\n",
    "if (x % 2 == 0):\n",
    "    print(\"The number you entered is an even number\")\n",
    "    \n",
    "else:\n",
    "    print(\"The number you entered is an odd number\")"
   ]
  },
  {
   "cell_type": "markdown",
   "metadata": {},
   "source": [
    "# Example 5: Game of guess\n",
    "\n",
    "You want to know whether your friends can guess your ATM password accurately. You wrote the below code and then ask each and everyone of them to enter your password."
   ]
  },
  {
   "cell_type": "code",
   "execution_count": 3,
   "metadata": {},
   "outputs": [
    {
     "name": "stdin",
     "output_type": "stream",
     "text": [
      "Enter your password 415\n"
     ]
    },
    {
     "name": "stdout",
     "output_type": "stream",
     "text": [
      "You're a criminal\n"
     ]
    }
   ],
   "source": [
    "saved_password = 1519\n",
    "\n",
    "new_password = input(\"Enter your password\")\n",
    "\n",
    "if int(new_password) == saved_password:\n",
    "    print(\"Password correct\")\n",
    "else:\n",
    "    print(\"You're a criminal\")"
   ]
  },
  {
   "cell_type": "markdown",
   "metadata": {},
   "source": [
    "# Example 6\n",
    "\n",
    "\n",
    "Test if a is less than b, AND if c is greater than a:"
   ]
  },
  {
   "cell_type": "code",
   "execution_count": 10,
   "metadata": {},
   "outputs": [
    {
     "name": "stdout",
     "output_type": "stream",
     "text": [
      "None of the conditions is True\n"
     ]
    }
   ],
   "source": [
    "a = 10\n",
    "b = 13\n",
    "c = 16\n",
    "\n",
    "if (a > b and c > a):\n",
    "    print(\"Both conditions are True\")\n",
    "else:\n",
    "    print(\"None of the conditions is True\")"
   ]
  },
  {
   "cell_type": "markdown",
   "metadata": {},
   "source": [
    "# Example 7\n",
    "\n",
    "Bank transfer experience"
   ]
  },
  {
   "cell_type": "code",
   "execution_count": 6,
   "metadata": {},
   "outputs": [
    {
     "name": "stdout",
     "output_type": "stream",
     "text": [
      "Transfer Failed! Not enough funds\n"
     ]
    }
   ],
   "source": [
    "amount_in_bank = 500\n",
    "\n",
    "transfer_amount = 600\n",
    "\n",
    "if (amount_in_bank > transfer_amount):\n",
    "    print(\"Transfer Successful\" )\n",
    "else:\n",
    "    print(\"Transfer Failed! Not enough funds\" )"
   ]
  },
  {
   "cell_type": "markdown",
   "metadata": {},
   "source": [
    "## if, elif, else statement\n",
    "\n",
    "Now let's imagine we have multiple conditions to check before the final **else** statement, this is where we can use the **elif** keyword to check for as many individual conditions as possible.\n",
    "\n",
    "### Example 1"
   ]
  },
  {
   "cell_type": "code",
   "execution_count": 5,
   "metadata": {},
   "outputs": [
    {
     "name": "stdout",
     "output_type": "stream",
     "text": [
      "None of the above conditions are True\n"
     ]
    }
   ],
   "source": [
    "x = 2\n",
    "\n",
    "y = 6\n",
    "\n",
    "if x == y:\n",
    "    print('First condition True')\n",
    "elif x > y :\n",
    "    print(\"Second condition True\")\n",
    "elif x == 100:\n",
    "    print(\"Third condition True\")\n",
    "else:\n",
    "    print(\"None of the above conditions are True\")"
   ]
  },
  {
   "cell_type": "markdown",
   "metadata": {},
   "source": [
    "### Example 2"
   ]
  },
  {
   "cell_type": "code",
   "execution_count": 7,
   "metadata": {},
   "outputs": [
    {
     "name": "stdout",
     "output_type": "stream",
     "text": [
      "Second condition True\n"
     ]
    }
   ],
   "source": [
    "x = 2\n",
    "\n",
    "y = 6\n",
    "\n",
    "if x == y:\n",
    "    print('First condition True')\n",
    "elif y > x :\n",
    "    print(\"Second condition True\")\n",
    "elif x == 100:\n",
    "    print(\"Third condition True\")\n",
    "else:\n",
    "    print(\"None of the above conditions are True\")"
   ]
  },
  {
   "cell_type": "markdown",
   "metadata": {},
   "source": [
    "Since y > x, therefore, this condition will be executed"
   ]
  },
  {
   "cell_type": "markdown",
   "metadata": {},
   "source": [
    "# Example 3: \n",
    "\n",
    "Bank transfer experience"
   ]
  },
  {
   "cell_type": "code",
   "execution_count": 14,
   "metadata": {},
   "outputs": [
    {
     "name": "stdout",
     "output_type": "stream",
     "text": [
      "Transfer Successful\n"
     ]
    }
   ],
   "source": [
    "amount_in_bank = 600\n",
    "\n",
    "transfer_amount = 500\n",
    "\n",
    "if amount_in_bank > transfer_amount:\n",
    "    print(\"Transfer Successful\" )\n",
    "elif amount_in_bank == transfer_amount:\n",
    "    print(\"Transfer successful! Remember to add more fund next time\")\n",
    "else:\n",
    "    print(\"Transfer Failed! Not Enought Funds\")"
   ]
  },
  {
   "cell_type": "markdown",
   "metadata": {},
   "source": [
    "# Python Loops\n",
    "\n",
    "There are two types of loops in Python\n",
    "\n",
    "- `for` loop \n",
    "\n",
    "and \n",
    "\n",
    "- `while` loop.\n",
    "\n",
    "# for loop\n",
    "\n",
    "A for loop is used to iterate over a sequence of object such as list, tuple, set, string or a dictionary.\n",
    "\n",
    "\n",
    "\n",
    "Syntax of for Loop\n",
    "\n",
    "`\n",
    "for item in object:\n",
    "    statements to do\n",
    " `\n",
    " \n",
    " \n",
    "The naming of the `item` is completely up to you, so use your best judgment for choosing a name that makes sense and you will be able to understand when revisiting your code."
   ]
  },
  {
   "cell_type": "markdown",
   "metadata": {},
   "source": [
    "# Example 1"
   ]
  },
  {
   "cell_type": "markdown",
   "metadata": {},
   "source": [
    "With the for loop we can execute a set of statements, once for each item in a set, list, tuple, set etc. Consider this example that print each fruit in the fridge:"
   ]
  },
  {
   "cell_type": "code",
   "execution_count": 55,
   "metadata": {},
   "outputs": [
    {
     "name": "stdout",
     "output_type": "stream",
     "text": [
      "Mango\n",
      "Orange\n",
      "Apple\n",
      "Lemon\n",
      "Banana\n",
      "Grape\n",
      "Cherry\n",
      "Avocado\n",
      "Watermelon\n"
     ]
    }
   ],
   "source": [
    "fridge = [\"Mango\", \"Orange\", \"Apple\",\"Lemon\", \"Banana\", \"Grape\", \"Cherry\", \"Avocado\", \"Watermelon\"]\n",
    "for fruit in fridge:\n",
    "  print(fruit)"
   ]
  },
  {
   "cell_type": "markdown",
   "metadata": {},
   "source": [
    "# Tips\n",
    "\n",
    "Code indentation becomes very important as we begin to work with loops and control flow."
   ]
  },
  {
   "cell_type": "markdown",
   "metadata": {},
   "source": [
    "# Example 2\n",
    "\n",
    "Printing the square of each number in the list"
   ]
  },
  {
   "cell_type": "code",
   "execution_count": 2,
   "metadata": {},
   "outputs": [
    {
     "name": "stdout",
     "output_type": "stream",
     "text": [
      "1\n",
      "4\n",
      "9\n",
      "16\n"
     ]
    }
   ],
   "source": [
    "mylist = [1, 2, 3, 4]\n",
    "\n",
    "for number in mylist:\n",
    "    print(number**2)"
   ]
  },
  {
   "cell_type": "markdown",
   "metadata": {},
   "source": [
    "As you can see, each of the number in the list has been squared with for loop"
   ]
  },
  {
   "cell_type": "markdown",
   "metadata": {},
   "source": [
    "# Example 3\n",
    "\n",
    "Print the square of each of the number from 0 to 9 using range function"
   ]
  },
  {
   "cell_type": "code",
   "execution_count": 52,
   "metadata": {},
   "outputs": [
    {
     "name": "stdout",
     "output_type": "stream",
     "text": [
      "0 : 0\n",
      "1 : 1\n",
      "2 : 4\n",
      "3 : 9\n",
      "4 : 16\n",
      "5 : 25\n",
      "6 : 36\n",
      "7 : 49\n",
      "8 : 64\n",
      "9 : 81\n"
     ]
    }
   ],
   "source": [
    "for i in range(10):\n",
    "    print(i, \":\", i**2)"
   ]
  },
  {
   "cell_type": "markdown",
   "metadata": {},
   "source": [
    "# Example 4\n",
    "\n",
    "for loop with strings"
   ]
  },
  {
   "cell_type": "code",
   "execution_count": 2,
   "metadata": {},
   "outputs": [
    {
     "name": "stdout",
     "output_type": "stream",
     "text": [
      "N\n",
      "i\n",
      "g\n",
      "e\n",
      "r\n",
      "i\n",
      "a\n"
     ]
    }
   ],
   "source": [
    "country = \"Nigeria\"\n",
    "\n",
    "for character in country:\n",
    "    print(character )"
   ]
  },
  {
   "cell_type": "markdown",
   "metadata": {},
   "source": [
    "As you can see, each character in the South Sudan is being printed."
   ]
  },
  {
   "cell_type": "markdown",
   "metadata": {},
   "source": [
    "## Example 4\n",
    "\n",
    "for loop with tuple"
   ]
  },
  {
   "cell_type": "code",
   "execution_count": 3,
   "metadata": {},
   "outputs": [
    {
     "name": "stdout",
     "output_type": "stream",
     "text": [
      "This is Kunle\n",
      "This is Sade\n",
      "This is Abdullai\n",
      "This is Jamal\n",
      "This is Halimah\n"
     ]
    }
   ],
   "source": [
    "teachers_name = (\"Kunle\", \"Sade\", \"Abdullai\", \"Jamal\", \"Halimah\")\n",
    "\n",
    "for teacher in teachers_name:\n",
    "    print(\"This is {}\".format(teacher))"
   ]
  },
  {
   "cell_type": "markdown",
   "metadata": {},
   "source": [
    "## Example 5\n",
    "\n",
    "\n",
    "for loop with dictionaries"
   ]
  },
  {
   "cell_type": "code",
   "execution_count": 2,
   "metadata": {},
   "outputs": [],
   "source": [
    "life_expectancy = {\"Nigeria\": 60, \"Kenya\": 69, \"Uganda\": 68, \"Ethiopia\": 68, \"Sudan\": 67, \n",
    "                   \"Rwanda\": 65, \"Tanzania\": 64, \"Somalia\": 54}"
   ]
  },
  {
   "cell_type": "markdown",
   "metadata": {},
   "source": [
    "Remember that dictionary is a key to value pairs"
   ]
  },
  {
   "cell_type": "code",
   "execution_count": 12,
   "metadata": {},
   "outputs": [
    {
     "name": "stdout",
     "output_type": "stream",
     "text": [
      "Nigeria\n",
      "Kenya\n",
      "Uganda\n",
      "Ethiopia\n",
      "Sudan\n",
      "Rwanda\n",
      "Tanzania\n",
      "Somalia\n"
     ]
    }
   ],
   "source": [
    "for country in life_expectancy.keys():\n",
    "    print(country)"
   ]
  },
  {
   "cell_type": "code",
   "execution_count": 13,
   "metadata": {},
   "outputs": [
    {
     "name": "stdout",
     "output_type": "stream",
     "text": [
      "60\n",
      "69\n",
      "68\n",
      "68\n",
      "67\n",
      "65\n",
      "64\n",
      "54\n"
     ]
    }
   ],
   "source": [
    "for year in life_expectancy.values():\n",
    "    print(year)"
   ]
  },
  {
   "cell_type": "code",
   "execution_count": 19,
   "metadata": {},
   "outputs": [
    {
     "name": "stdout",
     "output_type": "stream",
     "text": [
      "Nigeria\n",
      "60\n",
      "\n",
      "\n",
      "Kenya\n",
      "69\n",
      "\n",
      "\n",
      "Uganda\n",
      "68\n",
      "\n",
      "\n",
      "Ethiopia\n",
      "68\n",
      "\n",
      "\n",
      "Sudan\n",
      "67\n",
      "\n",
      "\n",
      "Rwanda\n",
      "65\n",
      "\n",
      "\n",
      "Tanzania\n",
      "64\n",
      "\n",
      "\n",
      "Somalia\n",
      "54\n",
      "\n",
      "\n"
     ]
    }
   ],
   "source": [
    "for country in life_expectancy.keys():\n",
    "    print(country)\n",
    "    print(life_expectancy[country])\n",
    "    print('\\n')"
   ]
  },
  {
   "cell_type": "markdown",
   "metadata": {},
   "source": [
    "# Introduction to break and continue statement in Python\n",
    "\n",
    "We can use break or continue statement to alter the flow of a normal loop in Python. As you know, loop iterates over a block of code until the test expression is False. Sometime, we may wish to terminate or stop the current iteration or even the whole loop without checking test expression. We therefore, use `break` and `continue` statements in these cases."
   ]
  },
  {
   "cell_type": "markdown",
   "metadata": {},
   "source": [
    "----"
   ]
  },
  {
   "cell_type": "markdown",
   "metadata": {},
   "source": [
    "# The continue Statement\n",
    "\n",
    "With the continue statement, we can stop the current iteration of the loop, and continue with the next item.\n",
    "\n",
    "# Example 1\n",
    "\n",
    "Do not print Orange"
   ]
  },
  {
   "cell_type": "code",
   "execution_count": 56,
   "metadata": {},
   "outputs": [
    {
     "name": "stdout",
     "output_type": "stream",
     "text": [
      "Mango\n",
      "Apple\n",
      "Lemon\n",
      "Banana\n",
      "Grape\n",
      "Cherry\n",
      "Avocado\n",
      "Watermelon\n"
     ]
    }
   ],
   "source": [
    "fruits_list = [\"Mango\", \"Orange\", \"Apple\",\"Lemon\", \"Banana\", \"Grape\", \"Cherry\", \"Avocado\", \"Watermelon\"]\n",
    "\n",
    "for fruit in fruits_list:\n",
    "    if fruit == \"Orange\":\n",
    "        continue\n",
    "    print(fruit)"
   ]
  },
  {
   "cell_type": "markdown",
   "metadata": {},
   "source": [
    "Orange is not among the fruits that were printed. "
   ]
  },
  {
   "cell_type": "markdown",
   "metadata": {},
   "source": [
    "# Example 2\n",
    "\n",
    "A score that equals 50 will not be printed"
   ]
  },
  {
   "cell_type": "code",
   "execution_count": 64,
   "metadata": {},
   "outputs": [
    {
     "name": "stdout",
     "output_type": "stream",
     "text": [
      "Your score is 30\n",
      "Your score is 40\n",
      "Your score is 60\n"
     ]
    }
   ],
   "source": [
    "scores = [20, 30, 40, 50, 60]\n",
    "\n",
    "for score in scores:\n",
    "    if num == 50:\n",
    "        continue\n",
    "    print(\"Your score is\", num)"
   ]
  },
  {
   "cell_type": "markdown",
   "metadata": {},
   "source": [
    "# Example 3\n",
    "\n",
    "A farmer in Tigray region of Ethiopia wants to know the list of good eggs in his poultry. A egg is good if it weighs above 60 gramms (g) . Use the for loop and continue statement to print out the good eggs."
   ]
  },
  {
   "cell_type": "code",
   "execution_count": 27,
   "metadata": {},
   "outputs": [
    {
     "name": "stdout",
     "output_type": "stream",
     "text": [
      "61\n",
      "68\n",
      "69\n"
     ]
    }
   ],
   "source": [
    "egg_weight = [59, 56, 61, 68, 52, 53, 69, 54, 57, 51]\n",
    "\n",
    "for egg in egg_weight:\n",
    "  if egg <= 60:\n",
    "    continue\n",
    "  print(egg)"
   ]
  },
  {
   "cell_type": "markdown",
   "metadata": {},
   "source": [
    "As you can see, only eggs that weigh more 60 gramms are printed out."
   ]
  },
  {
   "cell_type": "markdown",
   "metadata": {},
   "source": [
    "# Example 4"
   ]
  },
  {
   "cell_type": "code",
   "execution_count": 29,
   "metadata": {},
   "outputs": [
    {
     "name": "stdout",
     "output_type": "stream",
     "text": [
      "Current Letter is: c\n",
      "Current Letter is: o\n",
      "Current Letter is: d\n"
     ]
    }
   ],
   "source": [
    "for letter in 'code':\n",
    "    if letter == 'e':\n",
    "        continue\n",
    "    print('Current Letter is:',letter)"
   ]
  },
  {
   "cell_type": "markdown",
   "metadata": {},
   "source": [
    "# Class activity (Pilot question 1)\n",
    "\n",
    "Use the continue statement inside the for loop to skip the character from printing if the character is `u` in the string \"Kaduna\".\n"
   ]
  },
  {
   "cell_type": "code",
   "execution_count": 4,
   "metadata": {},
   "outputs": [
    {
     "name": "stdout",
     "output_type": "stream",
     "text": [
      "K\n",
      "a\n",
      "d\n",
      "n\n",
      "a\n"
     ]
    }
   ],
   "source": [
    "# Program to show the use of continue statement inside loops\n",
    "\n",
    "for val in \"Kaduna\":\n",
    "    if val == \"u\":\n",
    "        continue\n",
    "    print(val)"
   ]
  },
  {
   "cell_type": "markdown",
   "metadata": {},
   "source": [
    "Or use"
   ]
  },
  {
   "cell_type": "code",
   "execution_count": 5,
   "metadata": {},
   "outputs": [
    {
     "name": "stdout",
     "output_type": "stream",
     "text": [
      "k\n",
      "a\n",
      "d\n",
      "n\n",
      "a\n"
     ]
    }
   ],
   "source": [
    "state = \"kaduna\"\n",
    "\n",
    "for i in state:\n",
    "    if i == \"u\":\n",
    "        continue\n",
    "    print(i)"
   ]
  },
  {
   "cell_type": "markdown",
   "metadata": {},
   "source": [
    "---\n",
    "\n",
    "# The break Statement\n",
    "\n",
    "With the break statement, we can stop the loop before it has looped through all the items"
   ]
  },
  {
   "cell_type": "markdown",
   "metadata": {},
   "source": [
    "# Example 1\n",
    "\n",
    "Exit the loop when fruit is \"Grape\":"
   ]
  },
  {
   "cell_type": "code",
   "execution_count": 57,
   "metadata": {},
   "outputs": [
    {
     "name": "stdout",
     "output_type": "stream",
     "text": [
      "Mango\n",
      "Orange\n",
      "Apple\n",
      "Lemon\n",
      "Banana\n"
     ]
    }
   ],
   "source": [
    "fridge = [\"Mango\", \"Orange\", \"Apple\",\"Lemon\", \"Banana\", \"Grape\", \"Cherry\", \"Avocado\", \"Watermelon\"]\n",
    "for fruit in fridge:\n",
    "  print(fruit)\n",
    "  if fruit == \"Banana\":\n",
    "    break"
   ]
  },
  {
   "cell_type": "markdown",
   "metadata": {},
   "source": [
    "# Example 2\n",
    "\n",
    "Exit the loop when fruit is \"Grape\", but this time the break comes before the print:"
   ]
  },
  {
   "cell_type": "code",
   "execution_count": 58,
   "metadata": {},
   "outputs": [
    {
     "name": "stdout",
     "output_type": "stream",
     "text": [
      "Mango\n",
      "Orange\n",
      "Apple\n"
     ]
    }
   ],
   "source": [
    "fridge = [\"Mango\", \"Orange\", \"Apple\", \"Banana\", \"Cherry\",]\n",
    "for fruit in fridge:\n",
    "  if fruit == \"Banana\":\n",
    "    break\n",
    "  print(fruit)"
   ]
  },
  {
   "cell_type": "markdown",
   "metadata": {},
   "source": [
    "# Class activity \n",
    "\n",
    "Use the break statement inside the for loop to stop the program if the character is `d` in the string \"Ibadan\"."
   ]
  },
  {
   "cell_type": "markdown",
   "metadata": {},
   "source": [
    "# Class activity (Teacher guided question)\n",
    "\n",
    "Loop through the list `numbers` and print out all even numbers from the numbers list in the same order they are received. Don't print any numbers that come after 35 in the sequence."
   ]
  },
  {
   "cell_type": "code",
   "execution_count": 32,
   "metadata": {},
   "outputs": [
    {
     "name": "stdout",
     "output_type": "stream",
     "text": [
      "202\n",
      "784\n",
      "160\n",
      "208\n",
      "780\n",
      "344\n"
     ]
    }
   ],
   "source": [
    "for number in numbers:\n",
    "    if number % 2 == 0:\n",
    "        print(number)\n",
    "    if number == 35:\n",
    "        break\n",
    "        print(number)"
   ]
  },
  {
   "cell_type": "markdown",
   "metadata": {},
   "source": [
    "# Class activity (Teacher guided question)\n",
    "\n",
    "Loop through the list `numbers` and print out all even numbers from the numbers list in the same order they are received."
   ]
  },
  {
   "cell_type": "code",
   "execution_count": 27,
   "metadata": {},
   "outputs": [],
   "source": [
    "numbers = [751, 202, 784, 451, 160, 131, 208, 119, 401, 285, 780, 307, 525, 347, 344, 415, 117,  35,  59, 301,  63, 417, 665, 375,  19, 190,\n",
    "       784, 392,  36,  95, 742, 741, 186, 262, 153, 218, 707, 144,  36, 175, 623, 366, 397, 778, 128, 415, 753, 145]"
   ]
  },
  {
   "cell_type": "code",
   "execution_count": 33,
   "metadata": {},
   "outputs": [
    {
     "name": "stdout",
     "output_type": "stream",
     "text": [
      "202\n",
      "784\n",
      "160\n",
      "208\n",
      "780\n",
      "344\n",
      "190\n",
      "784\n",
      "392\n",
      "36\n",
      "742\n",
      "186\n",
      "262\n",
      "218\n",
      "144\n",
      "36\n",
      "366\n",
      "778\n",
      "128\n"
     ]
    }
   ],
   "source": [
    "for number in numbers:\n",
    "    if number % 2 == 0:\n",
    "        print(number)"
   ]
  },
  {
   "cell_type": "markdown",
   "metadata": {},
   "source": [
    "# The while loop\n",
    "\n",
    "A while loop will repeatedly execute a single statement or group of statements as long as the condition being checked is True. The reason it is called a 'while loop' is because the code statements are looped through over and over again until the condition is no longer True.\n",
    "\n",
    "\n",
    "\n",
    "Syntax of while Loop\n",
    "\n",
    "\n",
    "`while test_expression:\n",
    "    Body of while\n",
    "`\n",
    "\n",
    "# Example 1\n",
    "\n",
    "Print number as long as number is less than 10:"
   ]
  },
  {
   "cell_type": "code",
   "execution_count": 60,
   "metadata": {},
   "outputs": [
    {
     "name": "stdout",
     "output_type": "stream",
     "text": [
      "1\n",
      "2\n",
      "3\n",
      "4\n",
      "5\n",
      "6\n",
      "7\n",
      "8\n",
      "9\n"
     ]
    }
   ],
   "source": [
    "number = 1\n",
    "while number < 10:\n",
    "  print(number)\n",
    "  number = number + 1"
   ]
  },
  {
   "cell_type": "markdown",
   "metadata": {},
   "source": [
    "As you can see, it only prints number that is less than 10."
   ]
  },
  {
   "cell_type": "markdown",
   "metadata": {},
   "source": [
    "# Warning\n",
    "\n",
    "You must remember to increase number i.e. `number + 1`, or else the loop will continue forever.\n",
    "\n",
    "\n",
    "# Tip\n",
    "One unique feature about the while loop is that it requires relevant variables to be ready, in this example we need to define an indexing variable, number, which we set to 1."
   ]
  },
  {
   "cell_type": "markdown",
   "metadata": {},
   "source": [
    "# Example 2 "
   ]
  },
  {
   "cell_type": "markdown",
   "metadata": {},
   "source": [
    "We can also do the increament in this way:"
   ]
  },
  {
   "cell_type": "code",
   "execution_count": 2,
   "metadata": {},
   "outputs": [
    {
     "name": "stdout",
     "output_type": "stream",
     "text": [
      "1\n",
      "2\n",
      "3\n",
      "4\n",
      "5\n",
      "6\n",
      "7\n",
      "8\n",
      "9\n"
     ]
    }
   ],
   "source": [
    "number = 1\n",
    "\n",
    "while number < 10:\n",
    "  print(number)\n",
    "  number += 1"
   ]
  },
  {
   "cell_type": "markdown",
   "metadata": {},
   "source": [
    "# Example 3\n",
    "\n",
    "Printing number that is less than 20"
   ]
  },
  {
   "cell_type": "code",
   "execution_count": 6,
   "metadata": {},
   "outputs": [
    {
     "name": "stdout",
     "output_type": "stream",
     "text": [
      "8 is less than 20\n",
      "9 is less than 20\n",
      "10 is less than 20\n",
      "11 is less than 20\n",
      "12 is less than 20\n",
      "13 is less than 20\n",
      "14 is less than 20\n",
      "15 is less than 20\n",
      "16 is less than 20\n",
      "17 is less than 20\n",
      "18 is less than 20\n",
      "19 is less than 20\n"
     ]
    }
   ],
   "source": [
    "a = 8\n",
    "\n",
    "while a < 20:\n",
    "    print(\"{} is less than 20\".format(a))\n",
    "    a = a + 1"
   ]
  },
  {
   "cell_type": "markdown",
   "metadata": {},
   "source": [
    "# Example 4\n",
    "\n",
    "Printing number that is less than 20"
   ]
  },
  {
   "cell_type": "code",
   "execution_count": 17,
   "metadata": {},
   "outputs": [
    {
     "name": "stdout",
     "output_type": "stream",
     "text": [
      "x is currently\n",
      "0\n",
      "\n",
      "Adding 1 to x\n",
      "x is currently\n",
      "1\n",
      "\n",
      "Adding 1 to x\n",
      "x is currently\n",
      "2\n",
      "\n",
      "Adding 1 to x\n",
      "x is currently\n",
      "3\n",
      "\n",
      "Adding 1 to x\n",
      "x is currently\n",
      "4\n",
      "\n",
      "Adding 1 to x\n"
     ]
    }
   ],
   "source": [
    "# Start by setting variable x to 0\n",
    "x = 0\n",
    "\n",
    "while x < 5:\n",
    "    print('x is currently')\n",
    "    print(x)\n",
    "    print(\"\\nAdding 1 to x\") # \\n is to print to a new line\n",
    "    x = x + 1 # alternatively you could write x += 1"
   ]
  },
  {
   "cell_type": "markdown",
   "metadata": {},
   "source": [
    "____\n",
    "# Warning\n",
    "Be careful with the while loop! There is a potential to write a condition that always remains True. That is, you have an infinite while loop. If this happens to you, you can stop/restart the kernel."
   ]
  },
  {
   "cell_type": "markdown",
   "metadata": {},
   "source": [
    "# The continue Statement\n",
    "\n",
    "\n",
    "With the continue statement we can stop the current operation or iterator, and continue with the next:\n",
    "\n",
    "## Example 1\n",
    "\n",
    "Continue to the next iteration if i is 4:"
   ]
  },
  {
   "cell_type": "code",
   "execution_count": 53,
   "metadata": {},
   "outputs": [
    {
     "name": "stdout",
     "output_type": "stream",
     "text": [
      "1\n",
      "2\n",
      "3\n",
      "5\n",
      "6\n",
      "7\n",
      "8\n",
      "9\n",
      "10\n"
     ]
    }
   ],
   "source": [
    "i = 0\n",
    "while i < 10:\n",
    "  i += 1\n",
    "  if i == 4:\n",
    "    continue\n",
    "  print(i)"
   ]
  },
  {
   "cell_type": "markdown",
   "metadata": {},
   "source": [
    "## Example 2\n",
    "\n",
    "Continue to the next iteration if number is 7:"
   ]
  },
  {
   "cell_type": "code",
   "execution_count": 60,
   "metadata": {},
   "outputs": [
    {
     "name": "stdout",
     "output_type": "stream",
     "text": [
      "1\n",
      "2\n",
      "3\n",
      "4\n",
      "5\n",
      "6\n",
      "8\n",
      "9\n",
      "10\n"
     ]
    }
   ],
   "source": [
    "number = 0\n",
    "while number < 10:\n",
    "  number += 1\n",
    "  if number == 7:\n",
    "    continue\n",
    "  print(number)"
   ]
  },
  {
   "cell_type": "markdown",
   "metadata": {},
   "source": [
    "# The break Statement\n",
    "\n",
    "With the break statement we can stop the loop even if the while condition is True.\n",
    "\n",
    "## Example 1\n",
    "\n",
    "Exit the while loop when i is 10:"
   ]
  },
  {
   "cell_type": "code",
   "execution_count": 45,
   "metadata": {},
   "outputs": [
    {
     "name": "stdout",
     "output_type": "stream",
     "text": [
      "1\n",
      "2\n",
      "3\n",
      "4\n",
      "5\n",
      "6\n",
      "7\n",
      "8\n",
      "9\n",
      "10\n"
     ]
    }
   ],
   "source": [
    "i = 1\n",
    "while i < 15:\n",
    "  print(i)\n",
    "  if i == 10:\n",
    "    break\n",
    "  i += 1"
   ]
  },
  {
   "cell_type": "markdown",
   "metadata": {},
   "source": [
    "## Example 2\n",
    "\n",
    "Exit the while loop when x is 3:"
   ]
  },
  {
   "cell_type": "code",
   "execution_count": 49,
   "metadata": {},
   "outputs": [
    {
     "name": "stdout",
     "output_type": "stream",
     "text": [
      "0\n",
      "1\n",
      "2\n",
      "3\n"
     ]
    }
   ],
   "source": [
    "x = 0\n",
    "\n",
    "while x < 10:\n",
    "    print(x)\n",
    "    if x == 3:\n",
    "        break\n",
    "    x = x +1"
   ]
  },
  {
   "cell_type": "markdown",
   "metadata": {},
   "source": [
    "## Example 3\n",
    "\n",
    "Exit the while loop when x > 12:"
   ]
  },
  {
   "cell_type": "code",
   "execution_count": 62,
   "metadata": {},
   "outputs": [
    {
     "name": "stdout",
     "output_type": "stream",
     "text": [
      "0\n",
      "1\n",
      "2\n",
      "3\n",
      "4\n",
      "5\n",
      "6\n",
      "7\n",
      "8\n",
      "9\n",
      "10\n",
      "11\n",
      "12\n",
      "13\n"
     ]
    }
   ],
   "source": [
    "x = 0\n",
    "\n",
    "while x < 20:\n",
    "    print(x)\n",
    "    if x > 12:\n",
    "        break\n",
    "    x = x + 1"
   ]
  },
  {
   "cell_type": "markdown",
   "metadata": {},
   "source": [
    "# General tips\n",
    "\n",
    "## \"break\" and \"continue\" statements\n",
    "\n",
    "break is used to exit a for loop or a while loop, whereas continue is used to skip the current block, and return to the \"for\" or \"while\" statement. A few examples:"
   ]
  },
  {
   "cell_type": "markdown",
   "metadata": {},
   "source": [
    "# Summary of loops\n",
    "\n",
    "\n",
    "![](Images/continue-statment.jpg) ![](Images/break-statement.jpg)"
   ]
  },
  {
   "cell_type": "markdown",
   "metadata": {},
   "source": [
    "# Python functions"
   ]
  },
  {
   "cell_type": "markdown",
   "metadata": {},
   "source": [
    "Python function is a block of organized and reusable code that is used to perform a single and related action. It is a piece of code that runs when it is called or referenced. Python provides many inbuilt functions like `print()`, `input()`, `type()`, `len()`, etc. but it also gives freedom to create your own functions.\n",
    "\n",
    "![](images/function.png)"
   ]
  },
  {
   "cell_type": "markdown",
   "metadata": {},
   "source": [
    "# Types of Functions\n",
    "\n",
    "Function extends the functionality of Python. Basically, we can categorize functions into the following two types:\n",
    "\n",
    "**Built-in functions** - Functions that are pre-defined in Python\n",
    "\n",
    "**User-defined functions** - Functions defined by the users themselves"
   ]
  },
  {
   "cell_type": "markdown",
   "metadata": {},
   "source": [
    "## Advantages of Python Functions\n",
    "\n",
    "Function allows us to automate repetitive tasks in a more powerful way than copy-and-pasting. Writing a function has the following advantages:\n",
    "\n",
    "- You can give a function a name that makes your code easier to understand and remember.\n",
    "\n",
    "- As something changes, you only need to update code in one place, instead of many places.\n",
    "\n",
    "- it avoids repetition and makes the code reusable.\n",
    "\n",
    "- Improves maintainability of the code."
   ]
  },
  {
   "cell_type": "markdown",
   "metadata": {},
   "source": [
    "## When should you write a function?\n",
    "\n",
    "You should consider writing a function whenever you have copied and pasted a block of code more than twice.\n"
   ]
  },
  {
   "cell_type": "markdown",
   "metadata": {},
   "source": [
    "## Creating a function in Python\n",
    "\n",
    "You can define functions by following the rules below:\n",
    "\n",
    "* Function blocks begin with the keyword **def** followed by the `function_name`, parentheses `()`, a colon (`:`), and is indented. Function name follows the same rules of naming variables in Python.\n",
    "\n",
    "* Any parameters or arguments should be placed within these parentheses. You can add as many arguments as you want, just separate them with a comma. Parameters (arguments) helps to pass values to a function. They may be optional sometimes.\n",
    "\n",
    "* A colon (:) to mark the end of the function header.\n",
    "\n",
    "* Optional documentation string (docstring) to describe what the function does (for documentation purposes).\n",
    "\n",
    "* One or more valid python statements that make up the function body. Statements must have the same indentation level (Jupyter lab/notebook does this for you when you press return button after the colon mark).\n",
    "\n",
    "* Functions may return a value to the caller, using `return` statement. This is optional.\n",
    "\n",
    "\n",
    "## Function syntax\n",
    "\n",
    "```python\n",
    "def functionname(parameters):\n",
    "   \"function_docstring descrinng what the function does\"\n",
    "\n",
    "   # list of expressions to be executed\n",
    "    \n",
    "   return (expression)\n",
    "```\n",
    "\n",
    "In graphical form, here is a function that returns the sum of two given numbers\n",
    "\n",
    "![](Images/Function_.png)"
   ]
  },
  {
   "cell_type": "markdown",
   "metadata": {},
   "source": [
    "# Tip\n",
    "\n",
    "The terms parameter and argument can be used for the same thing: information that are passed into a function."
   ]
  },
  {
   "cell_type": "markdown",
   "metadata": {},
   "source": [
    "## Calling a Function in Python\n",
    "\n",
    "You can call a function by its name. If the function accepts parameters or arguments, you will have to pass them while calling the function."
   ]
  },
  {
   "cell_type": "markdown",
   "metadata": {},
   "source": [
    "# Example 1"
   ]
  },
  {
   "cell_type": "code",
   "execution_count": 112,
   "metadata": {},
   "outputs": [],
   "source": [
    "def sum_two_numbers(a, b):\n",
    "    \"This function add two numbers together\"\n",
    "    return (a + b)"
   ]
  },
  {
   "cell_type": "code",
   "execution_count": 113,
   "metadata": {},
   "outputs": [
    {
     "data": {
      "text/plain": [
       "16"
      ]
     },
     "execution_count": 113,
     "metadata": {},
     "output_type": "execute_result"
    }
   ],
   "source": [
    "sum_two_numbers(9, 7)"
   ]
  },
  {
   "cell_type": "markdown",
   "metadata": {},
   "source": [
    "Since function is reusable. We can also get the sum of $6$ and $9$ by using the `sum_two_numbers()` function"
   ]
  },
  {
   "cell_type": "code",
   "execution_count": 24,
   "metadata": {},
   "outputs": [
    {
     "data": {
      "text/plain": [
       "15"
      ]
     },
     "execution_count": 24,
     "metadata": {},
     "output_type": "execute_result"
    }
   ],
   "source": [
    "sum_two_numbers(6, 9)"
   ]
  },
  {
   "cell_type": "markdown",
   "metadata": {},
   "source": [
    "# Indentation error"
   ]
  },
  {
   "cell_type": "markdown",
   "metadata": {},
   "source": [
    "If your code is not well indented inside a function, it will throw an error. For example,"
   ]
  },
  {
   "cell_type": "code",
   "execution_count": 111,
   "metadata": {},
   "outputs": [
    {
     "ename": "IndentationError",
     "evalue": "unexpected indent (<ipython-input-111-ed23e87d8ece>, line 4)",
     "output_type": "error",
     "traceback": [
      "\u001b[1;36m  File \u001b[1;32m\"<ipython-input-111-ed23e87d8ece>\"\u001b[1;36m, line \u001b[1;32m4\u001b[0m\n\u001b[1;33m    return (y)\u001b[0m\n\u001b[1;37m    ^\u001b[0m\n\u001b[1;31mIndentationError\u001b[0m\u001b[1;31m:\u001b[0m unexpected indent\n"
     ]
    }
   ],
   "source": [
    "def sum_two_numbers(a, b):\n",
    "    \"This function add two numbers together\"\n",
    "y = a + b\n",
    "    return (y)"
   ]
  },
  {
   "cell_type": "markdown",
   "metadata": {},
   "source": [
    "### Example 2\n",
    "\n",
    "The following function takes two numbers as arguments and prints out their sum:"
   ]
  },
  {
   "cell_type": "code",
   "execution_count": 31,
   "metadata": {},
   "outputs": [],
   "source": [
    "def add(x, y):\n",
    "    \"This function add two numbers together in another form\"\n",
    "    print(f\"The sum of {x} and {y} is {x+y}\")"
   ]
  },
  {
   "cell_type": "code",
   "execution_count": 32,
   "metadata": {},
   "outputs": [
    {
     "name": "stdout",
     "output_type": "stream",
     "text": [
      "The sum of 2 and 6 is 8\n"
     ]
    }
   ],
   "source": [
    "add(2, 6)"
   ]
  },
  {
   "cell_type": "markdown",
   "metadata": {},
   "source": [
    "**You may also specify function arguments and supply their values** "
   ]
  },
  {
   "cell_type": "code",
   "execution_count": 37,
   "metadata": {},
   "outputs": [
    {
     "name": "stdout",
     "output_type": "stream",
     "text": [
      "The sum of 10 and 32 is 42\n"
     ]
    }
   ],
   "source": [
    "add(x = 10, y = 32) "
   ]
  },
  {
   "cell_type": "markdown",
   "metadata": {},
   "source": [
    "## Default arguments in a function\n",
    "\n",
    "A default argument is an argument that assumes a default value if a value is not provided in the function call for that argument. The following example gives an idea on default arguments, it prints default age if it is not passed."
   ]
  },
  {
   "cell_type": "code",
   "execution_count": 103,
   "metadata": {},
   "outputs": [],
   "source": [
    "def printinfo(age=25, gender = \"Female\"):\n",
    "    \"This prints the info about a person\"\n",
    "    print(f\"You are a {gender} and your age is {age} years\")"
   ]
  },
  {
   "cell_type": "code",
   "execution_count": 102,
   "metadata": {},
   "outputs": [
    {
     "name": "stdout",
     "output_type": "stream",
     "text": [
      "You are a Female and your age is 25\n"
     ]
    }
   ],
   "source": [
    "printinfo()"
   ]
  },
  {
   "cell_type": "code",
   "execution_count": 104,
   "metadata": {},
   "outputs": [
    {
     "name": "stdout",
     "output_type": "stream",
     "text": [
      "You are a Female and your age is 19 years\n"
     ]
    }
   ],
   "source": [
    "printinfo(age= 19)"
   ]
  },
  {
   "cell_type": "code",
   "execution_count": 105,
   "metadata": {},
   "outputs": [
    {
     "name": "stdout",
     "output_type": "stream",
     "text": [
      "You are a Male and your age is 20 years\n"
     ]
    }
   ],
   "source": [
    "printinfo(age = 20, gender= \"Male\")"
   ]
  },
  {
   "cell_type": "markdown",
   "metadata": {},
   "source": [
    "# Example 3\n",
    "\n",
    "This function prints out the demographic information about a student taken a particular course"
   ]
  },
  {
   "cell_type": "code",
   "execution_count": 9,
   "metadata": {},
   "outputs": [
    {
     "name": "stdout",
     "output_type": "stream",
     "text": [
      "Information about a student in SS 2 class:\n",
      "Name: Ishola\n",
      "Age: 15\n",
      "Gender: Male\n",
      "State: Ibadan\n"
     ]
    }
   ],
   "source": [
    "def student_info(name, age, gender, class_, state):\n",
    "   print(f\"Information about a student in {class_} class:\")\n",
    "   print (\"Name:\", name)\n",
    "   print (\"Age:\", age)\n",
    "   print (\"Gender:\", gender)\n",
    "   print(\"State:\", state)\n",
    "\n",
    "# Now you can call student_info function\n",
    "student_info(name = \"Ishola\", age = 15, gender = \"Male\", class_ = \"SS 2\", state= \"Ibadan\")"
   ]
  },
  {
   "cell_type": "code",
   "execution_count": 11,
   "metadata": {},
   "outputs": [
    {
     "name": "stdout",
     "output_type": "stream",
     "text": [
      "Information about a student in SS 3 class:\n",
      "Name: Ife\n",
      "Age: 18\n",
      "Gender: Female\n",
      "State: Lagos\n"
     ]
    }
   ],
   "source": [
    "student_info(name = \"Ife\", age = 18, gender = \"Female\", class_ = \"SS 3\", state = \"Lagos\")"
   ]
  },
  {
   "cell_type": "markdown",
   "metadata": {},
   "source": [
    "# Example  4"
   ]
  },
  {
   "cell_type": "markdown",
   "metadata": {},
   "source": [
    "Your function can also take user input. For example:"
   ]
  },
  {
   "cell_type": "code",
   "execution_count": 106,
   "metadata": {},
   "outputs": [
    {
     "name": "stdin",
     "output_type": "stream",
     "text": [
      "Please enter a number to check for odd or even 19\n"
     ]
    },
    {
     "name": "stdout",
     "output_type": "stream",
     "text": [
      "19 is an odd number\n"
     ]
    }
   ],
   "source": [
    "number = int(input(\"Please enter a number to check for odd or even\"))\n",
    "\n",
    "def odd_even_checker(number):\n",
    "    if number % 2 == 0:\n",
    "        print(f\"{number} is an even number\")\n",
    "    else:\n",
    "        print(f\"{number} is an odd number\")\n",
    "    \n",
    "odd_even_checker(number)"
   ]
  },
  {
   "cell_type": "code",
   "execution_count": 64,
   "metadata": {},
   "outputs": [
    {
     "name": "stdin",
     "output_type": "stream",
     "text": [
      "Please enter a number to check for odd or even 101\n"
     ]
    },
    {
     "name": "stdout",
     "output_type": "stream",
     "text": [
      "101 is an odd number\n"
     ]
    }
   ],
   "source": [
    "number = int(input(\"Please enter a number to check for odd or even\"))\n",
    "odd_even_checker(number)"
   ]
  },
  {
   "cell_type": "markdown",
   "metadata": {},
   "source": [
    "# Warning\n",
    "\n",
    "A function can have multiple return statements. However, when one of the return statement is True, the function execution will terminate and the value is returned to the caller.\n",
    "\n",
    "# Example 5"
   ]
  },
  {
   "cell_type": "code",
   "execution_count": 84,
   "metadata": {},
   "outputs": [
    {
     "data": {
      "text/plain": [
       "'Even'"
      ]
     },
     "execution_count": 84,
     "metadata": {},
     "output_type": "execute_result"
    }
   ],
   "source": [
    "def even_odd_checker(number):\n",
    "    if number % 2 == 0:\n",
    "        return(\"Even\")\n",
    "    else:\n",
    "        return(\"Odd\")\n",
    "    \n",
    "even_odd_checker(14)"
   ]
  },
  {
   "cell_type": "code",
   "execution_count": 85,
   "metadata": {},
   "outputs": [
    {
     "data": {
      "text/plain": [
       "'Odd'"
      ]
     },
     "execution_count": 85,
     "metadata": {},
     "output_type": "execute_result"
    }
   ],
   "source": [
    "even_odd_checker(number= 19)"
   ]
  },
  {
   "cell_type": "markdown",
   "metadata": {},
   "source": [
    "# Example 6\n",
    " \n",
    "This task was taken from DataCamp!\n",
    "\n",
    "Add a function named list_benefits() that returns the following list of strings: \"More organized code\", \"More readable code\", \"Easier code reuse\", \"Allowing programmers to share and connect code together\""
   ]
  },
  {
   "cell_type": "code",
   "execution_count": 91,
   "metadata": {},
   "outputs": [],
   "source": [
    "list_of_strings = [\"More organized code\", \"More readable code\", \"Easier code reuse\", \n",
    "                   \"Allowing programmers to share and connect code together\"]\n",
    "\n",
    "def list_benefits():\n",
    "    for string in list_of_strings:\n",
    "        print(string) # If you use return statement instead of print, only \"More organised code\" will be returned"
   ]
  },
  {
   "cell_type": "code",
   "execution_count": 92,
   "metadata": {},
   "outputs": [
    {
     "name": "stdout",
     "output_type": "stream",
     "text": [
      "More organized code\n",
      "More readable code\n",
      "Easier code reuse\n",
      "Allowing programmers to share and connect code together\n"
     ]
    }
   ],
   "source": [
    "list_benefits()"
   ]
  },
  {
   "cell_type": "markdown",
   "metadata": {},
   "source": [
    "Alternatively, we can write it in this way:"
   ]
  },
  {
   "cell_type": "code",
   "execution_count": 87,
   "metadata": {},
   "outputs": [
    {
     "name": "stdout",
     "output_type": "stream",
     "text": [
      "More organized code\n",
      "More readable code\n",
      "Easier code reuse\n",
      "Allowing programmers to share and connect code together\n"
     ]
    }
   ],
   "source": [
    "def list_benefits(benefit):\n",
    "    for i in benefit:\n",
    "        print(i) \n",
    "        \n",
    "list_of_strings = [\"More organized code\", \"More readable code\", \"Easier code reuse\", \n",
    "                   \"Allowing programmers to share and connect code together\"]\n",
    "\n",
    "list_benefits(list_of_strings)"
   ]
  },
  {
   "cell_type": "markdown",
   "metadata": {},
   "source": [
    "# Class activity\n",
    "\n",
    "1. Write a function that asks the user to enter two numbers. This function will print their sum and their difference each on a single line.\n",
    "\n",
    "2. Write a function that prompts the user to enter an integer `n` and outputs the letter \"x\", n times on a\n",
    "single line, without a space.\n",
    "\n",
    "3. Write a function to convert to Fahrenheit a temperature given in degree Celcius.\n",
    "\n",
    "  You can use this formula:\n",
    "\n",
    "  Tc ∗ 1.8 + 32\n",
    "\n",
    "  where Tc is the celcius degree to be converted.\n",
    "\n",
    "Use your function to convert the following Celcius to Fahrenheit\n",
    "\n",
    "-  100\n",
    "\n",
    "- 75\n",
    "\n",
    "- 120"
   ]
  },
  {
   "cell_type": "markdown",
   "metadata": {},
   "source": [
    "# Anonymous function"
   ]
  },
  {
   "cell_type": "markdown",
   "metadata": {},
   "source": [
    "Anonymous functions doesn’t have a name and is not declared in the standard manner of a fuction by using the `def` keyword. We can define anonymous function in Python using `lambda` keyword.\n",
    "\n",
    "## Syntax\n",
    "\n",
    "```python\n",
    "lambda arguments : expression\n",
    "\n",
    "```"
   ]
  },
  {
   "cell_type": "markdown",
   "metadata": {},
   "source": [
    "# Tip\n",
    "\n",
    "Anonymous function is also known as `lambda` function. The expression in the `lambda` function is executed and the result is returned"
   ]
  },
  {
   "cell_type": "markdown",
   "metadata": {},
   "source": [
    "# Example 1\n",
    "\n",
    "Write an anonymous function to find the square of a given number"
   ]
  },
  {
   "cell_type": "code",
   "execution_count": 114,
   "metadata": {},
   "outputs": [],
   "source": [
    "square = lambda x : x ** 2"
   ]
  },
  {
   "cell_type": "markdown",
   "metadata": {},
   "source": [
    "The argument of this function is `x` while `x ** 2` is the expression that we want the function to evaluate. A lambda function can take any number of arguments, but can only have one expression. You can call an anonymous function by its name and supply values to its arguments."
   ]
  },
  {
   "cell_type": "code",
   "execution_count": 118,
   "metadata": {},
   "outputs": [
    {
     "data": {
      "text/plain": [
       "100"
      ]
     },
     "execution_count": 118,
     "metadata": {},
     "output_type": "execute_result"
    }
   ],
   "source": [
    "square(x = 10)"
   ]
  },
  {
   "cell_type": "code",
   "execution_count": 119,
   "metadata": {},
   "outputs": [
    {
     "data": {
      "text/plain": [
       "64"
      ]
     },
     "execution_count": 119,
     "metadata": {},
     "output_type": "execute_result"
    }
   ],
   "source": [
    "square(8)"
   ]
  },
  {
   "cell_type": "markdown",
   "metadata": {},
   "source": [
    "# Example 2\n",
    "\n",
    "Multiply two numbers together and return the result:"
   ]
  },
  {
   "cell_type": "code",
   "execution_count": 123,
   "metadata": {},
   "outputs": [],
   "source": [
    "product = lambda x, y : x * y"
   ]
  },
  {
   "cell_type": "code",
   "execution_count": 124,
   "metadata": {},
   "outputs": [
    {
     "data": {
      "text/plain": [
       "12"
      ]
     },
     "execution_count": 124,
     "metadata": {},
     "output_type": "execute_result"
    }
   ],
   "source": [
    "product(2, 6)"
   ]
  },
  {
   "cell_type": "code",
   "execution_count": 125,
   "metadata": {},
   "outputs": [
    {
     "data": {
      "text/plain": [
       "16"
      ]
     },
     "execution_count": 125,
     "metadata": {},
     "output_type": "execute_result"
    }
   ],
   "source": [
    "product(2, 8)"
   ]
  },
  {
   "cell_type": "markdown",
   "metadata": {},
   "source": [
    "# Class activity\n",
    "\n",
    "Create a lambda function to calculate the difference between two numbers.\n"
   ]
  },
  {
   "cell_type": "markdown",
   "metadata": {},
   "source": [
    "# Introduction to Python libraries"
   ]
  },
  {
   "cell_type": "markdown",
   "metadata": {},
   "source": [
    "A library is a collection of Python functions that are written in Modules to extends basic Python functionality. A library can contain a set of functions relating to a specific topic or tasks. For example, Pandas for data manipulation and analysis, Numpy for scientific computing and manipulatin n-dimensional arrays, Matplotlib and Seaborn for data visualization while scikit-learn is for building machine learning models.\n",
    "\n",
    "# Tip\n",
    "\n",
    "Module is a file which contains various Python functions with the `.py` extension file which has python executable code.\n",
    "\n",
    "Package is a collection of modules. \n",
    "\n",
    "Library is a collection of packages.\n",
    "\n",
    "\n",
    "\n",
    "\n",
    "# How to import Python package\n",
    "\n",
    "Before you can use any function in a package, you will need to import the module that has that function. To import a module, simply type\n",
    "\n",
    "```python\n",
    "import module_name\n",
    "```\n",
    "For example, if I want to import a `numpy` module, I will type\n",
    "\n",
    "```python\n",
    "import numpy\n",
    "```\n",
    "\n",
    "The following statement allows us to use a module attribute (or function).\n",
    "\n",
    "`module_name.attribute`\n",
    "\n",
    "\n",
    "This means that we will have to refer to the function in dot notation, as in `module_name.function`\n",
    "\n",
    "---\n",
    "The numpy module provides various scientific functions e.g. trigonometric functions, exponent, logarithm, and mathematical constant."
   ]
  },
  {
   "cell_type": "code",
   "execution_count": 4,
   "metadata": {},
   "outputs": [],
   "source": [
    "import numpy"
   ]
  },
  {
   "cell_type": "markdown",
   "metadata": {},
   "source": [
    "We can use the module in the following ways:"
   ]
  },
  {
   "cell_type": "markdown",
   "metadata": {},
   "source": [
    "# Example 1\n",
    "\n",
    "For the constant  $\\pi$ (`pi`) which is rounded to 3.142"
   ]
  },
  {
   "cell_type": "code",
   "execution_count": 21,
   "metadata": {},
   "outputs": [
    {
     "data": {
      "text/plain": [
       "3.141592653589793"
      ]
     },
     "execution_count": 21,
     "metadata": {},
     "output_type": "execute_result"
    }
   ],
   "source": [
    "numpy.pi"
   ]
  },
  {
   "cell_type": "markdown",
   "metadata": {},
   "source": [
    "# Example 2\n",
    "\n",
    "For the square root of 16 $\\big(\\sqrt{16}\\big)$"
   ]
  },
  {
   "cell_type": "code",
   "execution_count": 22,
   "metadata": {},
   "outputs": [
    {
     "data": {
      "text/plain": [
       "4.0"
      ]
     },
     "execution_count": 22,
     "metadata": {},
     "output_type": "execute_result"
    }
   ],
   "source": [
    "numpy.sqrt(16)"
   ]
  },
  {
   "cell_type": "markdown",
   "metadata": {},
   "source": [
    "To load selected functions from a module, we use the following syntax\n",
    "\n",
    "```python\n",
    "from module_name import funcname\n",
    "```\n",
    "\n",
    "For example, import only `sqrt`, `pi`, `floor` from `numpy` module"
   ]
  },
  {
   "cell_type": "code",
   "execution_count": 14,
   "metadata": {},
   "outputs": [],
   "source": [
    "from numpy import sqrt, pi, floor"
   ]
  },
  {
   "cell_type": "markdown",
   "metadata": {},
   "source": [
    "You can then use those functions without referencing numpy again. \n",
    "\n",
    "# Example 1"
   ]
  },
  {
   "cell_type": "code",
   "execution_count": 15,
   "metadata": {},
   "outputs": [
    {
     "data": {
      "text/plain": [
       "8.0"
      ]
     },
     "execution_count": 15,
     "metadata": {},
     "output_type": "execute_result"
    }
   ],
   "source": [
    "sqrt(64)"
   ]
  },
  {
   "cell_type": "markdown",
   "metadata": {},
   "source": [
    "# Example 2"
   ]
  },
  {
   "cell_type": "code",
   "execution_count": 16,
   "metadata": {},
   "outputs": [
    {
     "data": {
      "text/plain": [
       "3.141592653589793"
      ]
     },
     "execution_count": 16,
     "metadata": {},
     "output_type": "execute_result"
    }
   ],
   "source": [
    "pi"
   ]
  },
  {
   "cell_type": "markdown",
   "metadata": {},
   "source": [
    "# Example 3"
   ]
  },
  {
   "cell_type": "code",
   "execution_count": 20,
   "metadata": {},
   "outputs": [
    {
     "data": {
      "text/plain": [
       "3.0"
      ]
     },
     "execution_count": 20,
     "metadata": {},
     "output_type": "execute_result"
    }
   ],
   "source": [
    "floor(3.141592653589793) # This function only returns the integar part."
   ]
  },
  {
   "cell_type": "markdown",
   "metadata": {},
   "source": [
    "# Importing packages with alias"
   ]
  },
  {
   "cell_type": "markdown",
   "metadata": {},
   "source": [
    "It is common for Python users to import packages with some alias. Alias helps us to shorten the name of the packages while referencing a certain function with it. \n",
    "\n",
    "The syntax looks like this:\n",
    "\n",
    "```python\n",
    "import module_name as another_name\n",
    "```\n",
    "\n",
    "For example,"
   ]
  },
  {
   "cell_type": "code",
   "execution_count": 24,
   "metadata": {},
   "outputs": [],
   "source": [
    "import numpy as np"
   ]
  },
  {
   "cell_type": "markdown",
   "metadata": {},
   "source": [
    "We can now refer to the function as `np.function_name` rather than `numpy.function_name`"
   ]
  },
  {
   "cell_type": "markdown",
   "metadata": {},
   "source": [
    "# Example 1\n",
    "\n",
    "For the constant  $\\pi$ (`pi`) which is rounded to 3.142"
   ]
  },
  {
   "cell_type": "code",
   "execution_count": 25,
   "metadata": {},
   "outputs": [
    {
     "data": {
      "text/plain": [
       "3.141592653589793"
      ]
     },
     "execution_count": 25,
     "metadata": {},
     "output_type": "execute_result"
    }
   ],
   "source": [
    "np.pi"
   ]
  },
  {
   "cell_type": "markdown",
   "metadata": {},
   "source": [
    "# Example 2\n",
    "\n",
    "For the square root of 16 $\\big(\\sqrt{16}\\big)$"
   ]
  },
  {
   "cell_type": "code",
   "execution_count": 26,
   "metadata": {},
   "outputs": [
    {
     "data": {
      "text/plain": [
       "4.0"
      ]
     },
     "execution_count": 26,
     "metadata": {},
     "output_type": "execute_result"
    }
   ],
   "source": [
    "np.sqrt(16)"
   ]
  },
  {
   "cell_type": "markdown",
   "metadata": {},
   "source": [
    "For some modules, it is commonplace to use aliases. for example:"
   ]
  },
  {
   "cell_type": "code",
   "execution_count": 28,
   "metadata": {},
   "outputs": [],
   "source": [
    "import pandas as pd\n",
    "\n",
    "import matplotlib.pyplot as plt\n",
    "\n",
    "import seaborn as sns"
   ]
  }
 ],
 "metadata": {
  "kernelspec": {
   "display_name": "Python 3",
   "language": "python",
   "name": "python3"
  },
  "language_info": {
   "codemirror_mode": {
    "name": "ipython",
    "version": 3
   },
   "file_extension": ".py",
   "mimetype": "text/x-python",
   "name": "python",
   "nbconvert_exporter": "python",
   "pygments_lexer": "ipython3",
   "version": "3.8.5"
  }
 },
 "nbformat": 4,
 "nbformat_minor": 4
}
