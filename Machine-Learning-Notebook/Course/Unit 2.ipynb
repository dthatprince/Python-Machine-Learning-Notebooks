{
 "cells": [
  {
   "cell_type": "markdown",
   "metadata": {},
   "source": [
    "# Data Science Nigeria: Introductory Machine Learning\n",
    "\n",
    "![](../Images/banner.jpeg)\n"
   ]
  },
  {
   "cell_type": "markdown",
   "metadata": {},
   "source": [
    "**Evaluation of the concept taught in the last class**\n",
    "\n",
    "Q1: Mention the main types of ML Algorithm\n",
    "    \n",
    "Q2: What differentiate the 2 major types?\n",
    "\n",
    "Q3: Under which type of ML does the following task belong?\n",
    "\n",
    "    Cancer Detection\n",
    "    Customer Segmentation\n",
    "    Will a web visitor click an ads?\n",
    "    will an engine component fail?\n",
    "    Fraudulent Transaction detection\n",
    "    Email Spam detection\n",
    "    Loan Prediction\n",
    "\n",
    "Q4: What are the 5 basic steps used to perform machine learning task?\n"
   ]
  },
  {
   "cell_type": "markdown",
   "metadata": {},
   "source": [
    "# <font color=blue> Introduction to Python Libraries: Numpy and Pandas\n",
    "\n"
   ]
  },
  {
   "source": [
    "## Course Overview \n",
    "\n",
    "Upon completion of this study unit, you should be able to:    \n",
    "\n",
    "- Understand of the basics functionalities in Numpy and Pandas Libraries\n",
    "\n",
    "- Data Preprocessing with Numpy and Pandas\n"
   ],
   "cell_type": "markdown",
   "metadata": {}
  },
  {
   "cell_type": "markdown",
   "metadata": {},
   "source": [
    "## Installation and Environment Setup\n",
    "\n",
    "For this training, we will be using one of the most popular framework used for data science and machine learning known as **Anaconda**. You can download the correct version of anaconda <a href=\"https://www.anaconda.com/distribution/\">here </a>as it relates to your op erating system – Windows, Mac or Linux.\n",
    "\n",
    "<img src= '../Images/Capture.jpg' width= 1000 height = 600>\n",
    "\n",
    "* Why Python?\n",
    "\n",
    "**Python is a general-purpose, beginner friendly language, which can be used to build virtually anything. It can be used for web development, desktop app development, gaming, data analysis, Artificial intellingence, scientific computing etc. Increasing  community of python users is another reason for choosing PYTHON**\n",
    "\n",
    "Remember,\n",
    "\n",
    ">The larger a community, the more likely you'd get help and the more people will be building useful tools to ease the process of development."
   ]
  },
  {
   "cell_type": "markdown",
   "metadata": {},
   "source": [
    "### Required Libraries"
   ]
  },
  {
   "cell_type": "markdown",
   "metadata": {},
   "source": [
    "* Numpy \n",
    "\n",
    "* Pandas \n",
    "\n",
    "* Matplotlib\n",
    "\n",
    "* Scikit Learn "
   ]
  },
  {
   "cell_type": "markdown",
   "metadata": {},
   "source": [
    "#### NUMPY\n",
    "\n",
    "This is a fundamental Package for scientific computing for manipulation of multi-dimensional arrays and matrices.  It is particularly useful for linear algebra, Fourier transform, random number simulation etc \n",
    "\n",
    "**Matrices** are rectangular array of numbers, symbols and expressions arranged in rows and columns. The numbers, symbols or expressions in the matrix are called its entries or its elements. The horizontal and vertical lines of entries in a matrix are called rows and columns, respectively. Its operations inclue addition, subtraction, multiplication\n",
    "\n",
    "The first step is to import numpy library into the active notebook"
   ]
  },
  {
   "cell_type": "code",
   "execution_count": null,
   "metadata": {},
   "outputs": [],
   "source": [
    "import numpy"
   ]
  },
  {
   "cell_type": "markdown",
   "metadata": {},
   "source": [
    "To shorten the length of any library, a better alternative is to instantiate the library with a shorter name, as in,"
   ]
  },
  {
   "cell_type": "code",
   "execution_count": null,
   "metadata": {},
   "outputs": [],
   "source": [
    "import numpy as np"
   ]
  },
  {
   "cell_type": "markdown",
   "metadata": {},
   "source": [
    "With this, each time numpy is required on this active notebook, **np** will be used instead"
   ]
  },
  {
   "cell_type": "code",
   "execution_count": null,
   "metadata": {},
   "outputs": [],
   "source": [
    "#creating a 1 dimensional array\n",
    "\n",
    "x = np.array([1, 2, 3, 4, 5])\n",
    "y = np.array([9, 10]) \n",
    "print(x)\n",
    "print('The shape of X is', x.shape)\n",
    "\n",
    "print(y)\n",
    "print('The shape of Y is', y.shape)"
   ]
  },
  {
   "cell_type": "code",
   "execution_count": null,
   "metadata": {},
   "outputs": [],
   "source": [
    "# Creating a 2D arrays  \n",
    "z = np.array([[1, 2], [3, 4]]) \n",
    "\n",
    "print(z)\n",
    "print('The shape of Z is', z.shape)\n"
   ]
  },
  {
   "cell_type": "code",
   "execution_count": null,
   "metadata": {},
   "outputs": [],
   "source": [
    "# creating a multidimensional array\n",
    "\n",
    "w = np.array([[[1,2,3],[4,5,6],[7,8,9]],[[10,11,12],[13,14,15],[16,17,18]],[[19,20,21],[22,23,24],[26,27,28]]])\n",
    "print(w, '\\n')\n",
    "print('The shape of W is', w.shape)"
   ]
  },
  {
   "cell_type": "markdown",
   "metadata": {},
   "source": [
    "#### Numpy Functions\n",
    "\n",
    "Numpy has built-in functions for creating arrays. These includes:\n",
    "\n",
    "**arrange:**  \n",
    "\n",
    "**reshape**\n",
    "\n",
    "**zeros** \n",
    "\n",
    "**ones** \n",
    "\n",
    "**full** \n",
    "\n",
    "**linspace**\n",
    "\n",
    "**random**\n",
    ">The dimensions (no of rows and column) are passed as parameters to the function.\n"
   ]
  },
  {
   "cell_type": "code",
   "execution_count": null,
   "metadata": {},
   "outputs": [],
   "source": [
    "#arrange is Used to create arrays with values in a specified range.\n",
    "\n",
    "A10 = np.arange(10)\n",
    "A10\n",
    "print(A10.shape)"
   ]
  },
  {
   "cell_type": "code",
   "execution_count": null,
   "metadata": {},
   "outputs": [],
   "source": [
    "#To change a scalar matrix to vextor\n",
    "\n",
    "B10 = A10.reshape(-1,1)\n",
    "\n",
    "print ( A10, '\\n', B10)\n",
    "print (\"The shape of 1D array X = \", B10.shape)"
   ]
  },
  {
   "cell_type": "code",
   "execution_count": null,
   "metadata": {
    "scrolled": true
   },
   "outputs": [],
   "source": [
    "A10 = B10.reshape(2,5)\n",
    "\n",
    "print ( A10)\n",
    "print (\"The shape of 1D array X = \", A10.shape)"
   ]
  },
  {
   "cell_type": "markdown",
   "metadata": {},
   "source": [
    "> Note: The new dimension must be compatible with the old one"
   ]
  },
  {
   "cell_type": "code",
   "execution_count": null,
   "metadata": {},
   "outputs": [],
   "source": [
    "#zeros is used to create an array filled with zeros. \n",
    "\n",
    "np_Zeros = np.zeros((2,3))\n",
    "\n",
    "np_Zeros"
   ]
  },
  {
   "cell_type": "code",
   "execution_count": null,
   "metadata": {},
   "outputs": [],
   "source": [
    "#ones is used to create an array filled with ones\n",
    "np_Ones = np.ones((2,3))\n",
    "\n",
    "np_Ones"
   ]
  },
  {
   "cell_type": "code",
   "execution_count": null,
   "metadata": {},
   "outputs": [],
   "source": [
    " #function creates a n * n array filled with a specified given value.\n",
    "np_full = np.full((2,3), 4)\n",
    "\n",
    "np_full"
   ]
  },
  {
   "cell_type": "code",
   "execution_count": null,
   "metadata": {},
   "outputs": [],
   "source": [
    "#The eye function lets you create a n * n diagonal matrix \n",
    "np_eye = np.eye(3,6)\n",
    "\n",
    "np_eye"
   ]
  },
  {
   "cell_type": "code",
   "execution_count": null,
   "metadata": {},
   "outputs": [],
   "source": [
    "#linspace returns evenly spaced numbers over a specified interval\n",
    "np_linspace = np.linspace(0, 10, num = 6)\n",
    "\n",
    "np_linspace "
   ]
  },
  {
   "cell_type": "code",
   "execution_count": null,
   "metadata": {},
   "outputs": [],
   "source": [
    "#This creates an array filled with random values between 0 and 1\n",
    "np_rand = np.random.random_sample((2,3))\n",
    "\n",
    "np_rand1 = np.random.rand(2,3)\n",
    "\n",
    "X = np.random.randint(10, size=(5,3))\n",
    "\n",
    "print(np_rand)\n",
    "\n",
    "print(np_rand1)\n",
    "X"
   ]
  },
  {
   "cell_type": "markdown",
   "metadata": {},
   "source": [
    "### Accessing elements of Numpy array\n",
    "\n",
    ">To access an element in a two-dimensional array, you need to specify an index for both the row and the column."
   ]
  },
  {
   "cell_type": "code",
   "execution_count": null,
   "metadata": {},
   "outputs": [],
   "source": [
    "#Row 1, column 0 gives a scalar\n",
    "z[1,0]"
   ]
  },
  {
   "cell_type": "code",
   "execution_count": null,
   "metadata": {},
   "outputs": [],
   "source": [
    "#or\n",
    "\n",
    "p = z[1][0]\n",
    "\n",
    "p"
   ]
  },
  {
   "cell_type": "code",
   "execution_count": null,
   "metadata": {},
   "outputs": [],
   "source": [
    "p = (z[0:1, 0])\n",
    "p "
   ]
  },
  {
   "cell_type": "markdown",
   "metadata": {},
   "source": [
    "#### Numpy Attributes\n",
    "\n",
    "Array attributes reflect information that is intrinsic to the array itself. Generally, accessing an array through its attributes allows you to get and sometimes set intrinsic properties of the array without creating a new array. The exposed attributes are the core parts of an array and only some of them can be reset meaningfully without creating a new array\n",
    "\n",
    "Some commonly used attributes are:\n",
    "\n",
    "* Shape:    indicates the size of an array\n",
    "* Size:     returns the total number of elements in the NumPy array\n",
    "* Dtype:    returns the type of elements in the array, i.e., int64, character\n"
   ]
  },
  {
   "cell_type": "code",
   "execution_count": null,
   "metadata": {},
   "outputs": [],
   "source": [
    "print (\"The Dtype of elements in array X= \", x.dtype)\n",
    "\n",
    "print (\"The shape of ND array W= \", w.dtype)"
   ]
  },
  {
   "cell_type": "code",
   "execution_count": null,
   "metadata": {},
   "outputs": [],
   "source": [
    "print (\"The shape of 1D array X = \", x.shape)\n",
    "print (\"The shape of 2D array Z = \", z.shape)\n",
    "print (\"The shape of ND array W = \", w.shape)\n",
    "print (\"The shape of arange A10 = \", A10.shape)"
   ]
  },
  {
   "cell_type": "code",
   "execution_count": null,
   "metadata": {},
   "outputs": [],
   "source": [
    "print (\"The shape of ND array W = \", w.size)\n",
    "print (\"The shape of arange A10 = \", A10.size)"
   ]
  },
  {
   "cell_type": "markdown",
   "metadata": {},
   "source": [
    "**Numpy array math operations**"
   ]
  },
  {
   "cell_type": "code",
   "execution_count": null,
   "metadata": {},
   "outputs": [],
   "source": [
    "x = np.array([[1,2,3],[4,5,6]])\n",
    "y = np.array([[2,2,2],[3,3,3]])\n",
    "z = np.array([1,2,3])"
   ]
  },
  {
   "cell_type": "code",
   "execution_count": null,
   "metadata": {},
   "outputs": [],
   "source": [
    "#Transpose a matrix\n",
    "\n",
    "x.T"
   ]
  },
  {
   "cell_type": "code",
   "execution_count": null,
   "metadata": {},
   "outputs": [],
   "source": [
    "#Elementwise addittion\n",
    "\n",
    "print (x+y)\n",
    "print (np.add(x,y))"
   ]
  },
  {
   "cell_type": "code",
   "execution_count": null,
   "metadata": {},
   "outputs": [],
   "source": [
    "#Elementwise Subtraction\n",
    "\n",
    "print (x-y)\n",
    "print (np.subtract(x,y))"
   ]
  },
  {
   "cell_type": "code",
   "execution_count": null,
   "metadata": {},
   "outputs": [],
   "source": [
    "#Elementwise Multiplication\n",
    "\n",
    "print (x*z)\n",
    "print (np.multiply(x,z))"
   ]
  },
  {
   "cell_type": "code",
   "execution_count": null,
   "metadata": {},
   "outputs": [],
   "source": [
    "##Elementwise Division\n",
    "\n",
    "print (x/y)\n",
    "print (np.divide(x,y))"
   ]
  },
  {
   "cell_type": "code",
   "execution_count": null,
   "metadata": {},
   "outputs": [],
   "source": [
    "# Inner product of vectors \n",
    "print(np.dot(x, z), \"\\n\") "
   ]
  },
  {
   "cell_type": "markdown",
   "metadata": {},
   "source": [
    "#### PYTHON PANDAS\n",
    "\n",
    "This is a multidimensional data structures and analysis tool for manipulating numerical \n",
    "\n",
    ">Note: Rows represent **observations** while columns represent **input features**\n",
    "\n",
    "**Pandas Data Type**\n",
    "\n",
    "Recognised pandas data type includes:\n",
    "\n",
    "* **object:**     To represent text\n",
    "* **int64:**      Integer values\n",
    "* **float64:**    Floating point numbers\n",
    "* **Category:**   List of text values\n",
    "* **bool:**       True or false values\n",
    "* **datetime64:** Date and time values\n",
    "* **timedelta:**  Difference between two datetimes"
   ]
  },
  {
   "cell_type": "code",
   "execution_count": null,
   "metadata": {},
   "outputs": [],
   "source": [
    "import pandas as pd"
   ]
  },
  {
   "cell_type": "markdown",
   "metadata": {},
   "source": [
    "Ways to create pandas dataframe"
   ]
  },
  {
   "cell_type": "code",
   "execution_count": null,
   "metadata": {},
   "outputs": [],
   "source": [
    "# initialize list of lists \n",
    "data = [['Ayo', 10], ['Imran', 15], ['Chucks', 14]] \n",
    "\n",
    "# Create the pandas DataFrame from the list and adding column headers\n",
    "df = pd.DataFrame(data, columns = ['Name', 'Age']) \n",
    "\n",
    "# print dataframe. \n",
    "df \n"
   ]
  },
  {
   "cell_type": "code",
   "execution_count": null,
   "metadata": {},
   "outputs": [],
   "source": [
    "# Create the pandas DataFrame from the dictionary of narray list\n",
    "#Example 1:\n",
    "# initialize list of lists \n",
    "data = {'Name': ['Ayo', 'Imran','Chucks'] ,'Age':[10, 15, 14]}\n",
    "\n",
    "# Create the pandas DataFrame from the list and adding column headers\n",
    "df = pd.DataFrame(data) \n",
    "\n",
    "# print dataframe. \n",
    "df \n"
   ]
  },
  {
   "cell_type": "code",
   "execution_count": null,
   "metadata": {},
   "outputs": [],
   "source": [
    "#Example 2:\n",
    "\n",
    "#Population and area (km/square) of some states in Nigeria and their capital\n",
    "\n",
    "dict_data = {\"State\": [\"Abia\", \"Adamawa\", \"Lagos\", \"Osun\", \"Rivers\"], \n",
    "       \"Capital\": [\"Umuahia\", \"Yola\", \"Ikeja\", \"Osogbo\", \"Portharcourt\"], \n",
    "       \"area\": [6320, 36917, 3345, 9251, 11077], \n",
    "       \"population\": [2845380, 3178950, 9113605, 3416959, 5198605] } \n",
    "  \n",
    "df = pd.DataFrame(dict_data) \n",
    "\n",
    "df "
   ]
  },
  {
   "cell_type": "code",
   "execution_count": null,
   "metadata": {},
   "outputs": [],
   "source": [
    "df.dtypes"
   ]
  },
  {
   "cell_type": "markdown",
   "metadata": {},
   "source": [
    "**ZIP**"
   ]
  },
  {
   "cell_type": "code",
   "execution_count": null,
   "metadata": {},
   "outputs": [],
   "source": [
    "# pandas Datadaframe from lists using zip. \n",
    "\n",
    "# List1 \n",
    "Name = ['Ayo', 'Imran','Chucks', 'judith'] \n",
    "\n",
    "# List2 \n",
    "Age = [25, 30, 26, 22] \n",
    "\n",
    "# get the list of tuples from two list and merge them by using zip(). \n",
    "list_of_tuples = list(zip(Name, Age)) \n",
    "\n",
    "# Converting lists of tuples into pandas Dataframe. \n",
    "df = pd.DataFrame(list_of_tuples, columns = ['Name', 'Age']) \n",
    "\n",
    "# Print data. \n",
    "df \n"
   ]
  },
  {
   "cell_type": "markdown",
   "metadata": {},
   "source": [
    "**SERIES**\n",
    "\n",
    "A Series represents a single column in memory, which is either independent or belongs to a Pandas DataFrame."
   ]
  },
  {
   "cell_type": "code",
   "execution_count": null,
   "metadata": {},
   "outputs": [],
   "source": [
    "# Pandas Dataframe from Dicts of series. \n",
    "\n",
    "import pandas as pd \n",
    "\n",
    "# Intialise data to Dicts of series. \n",
    "series_data = {\"State\": pd.Series([\"Abia\", \"Adamawa\", \"Lagos\", \"Osun\", \"Rivers\"]), \n",
    "       \"Capital\": pd.Series([\"Umuahia\", \"Yola\", \"Ikeja\", \"Osogbo\", \"Portharcourt\"]), \n",
    "       \"area\": pd.Series([6320, 36917, 3345, 9251, 11077]), \n",
    "       \"population\": pd.Series([2845380, 3178950, 9113605, 3416959, 5198605]) } \n",
    "  \n",
    "# creates Dataframe. \n",
    "df = pd.DataFrame(series_data) \n",
    "\n",
    "# print the data. \n",
    "df \n"
   ]
  },
  {
   "cell_type": "markdown",
   "metadata": {},
   "source": [
    "**External source -**\n",
    "\n",
    "**CSV** Another way to create a DataFrame is by importing a csv file using pd.read_csv\n",
    "\n"
   ]
  },
  {
   "cell_type": "code",
   "execution_count": null,
   "metadata": {},
   "outputs": [],
   "source": [
    "csv_df = pd.read_csv('../Data/2006.csv')\n",
    "\n",
    "csv_df"
   ]
  },
  {
   "cell_type": "markdown",
   "metadata": {},
   "source": [
    "**EXCEL- XLSX**"
   ]
  },
  {
   "cell_type": "code",
   "execution_count": null,
   "metadata": {},
   "outputs": [],
   "source": [
    "Excel_df = pd.read_excel('../Data/2006.xlsx')\n",
    "\n",
    "Excel_df"
   ]
  },
  {
   "cell_type": "code",
   "execution_count": null,
   "metadata": {},
   "outputs": [],
   "source": [
    "#By default, if no length is specified, it returns the first 5 rows\n",
    "print(csv_df.head(), '\\n')\n",
    "\n",
    "#This returns the first 5 rows in Population Column\n",
    "print(csv_df['Population'].head())"
   ]
  },
  {
   "cell_type": "code",
   "execution_count": null,
   "metadata": {},
   "outputs": [],
   "source": [
    "#By default, if no length is specified, it returns the last 5 rows\n",
    "print(csv_df.tail(), '\\n')\n",
    "\n",
    "#This returns the last 5 rows in Population Column\n",
    "print(csv_df['Population'].tail())"
   ]
  },
  {
   "cell_type": "code",
   "execution_count": null,
   "metadata": {},
   "outputs": [],
   "source": [
    "#For summary of descriptive statistics of the dataframe\n",
    "csv_df.describe()"
   ]
  },
  {
   "cell_type": "code",
   "execution_count": null,
   "metadata": {},
   "outputs": [],
   "source": [
    "#To include summary of descriptive statistics of non numeric columns of the dataframe \n",
    "csv_df.describe(include='all')"
   ]
  },
  {
   "cell_type": "code",
   "execution_count": null,
   "metadata": {},
   "outputs": [],
   "source": [
    "csv_df['Population'].mean()"
   ]
  },
  {
   "cell_type": "markdown",
   "metadata": {},
   "source": [
    "Other descriptive statistics functions are:\n",
    "\n",
    "* count()\tNumber of non-null observations\n",
    "* sum()\tSum of values\n",
    "* mean()\tMean of Values\n",
    "* median()\tMedian of Values\n",
    "* mode()\tMode of values\n",
    "* std()\tStandard Deviation of the Values\n",
    "* min()\tMinimum Value\n",
    "* max()\tMaximum Value\n",
    "* abs()\tAbsolute Value\n",
    "* prod()\tProduct of Values\n",
    "* cumsum()\tCumulative Sum\n",
    "* cumprod()\tCumulative Product\n",
    "\n",
    ">Note: Functions like abs(), cumprod() throw exception when the DataFrame contains character or string data because such operations cannot be performed."
   ]
  },
  {
   "cell_type": "code",
   "execution_count": null,
   "metadata": {},
   "outputs": [],
   "source": [
    "#To show the features in the dataset\n",
    "csv_df.columns"
   ]
  },
  {
   "cell_type": "code",
   "execution_count": null,
   "metadata": {},
   "outputs": [],
   "source": [
    "#To show even more information about the dataset\n",
    "\n",
    "csv_df.info()"
   ]
  },
  {
   "cell_type": "markdown",
   "metadata": {},
   "source": [
    "#### Pandas Idexing\n",
    "\n",
    "There are several ways to index a Pandas DataFrame. These are:\n",
    "\n",
    "Square bracket notation: One of the easiest ways to do this is by using square bracket notation.\n",
    "\n",
    "Loc and iloc: loc is label-based, which means that you have to specify rows and columns based on their row and column labels. iloc is integer index based, so you have to specify rows and columns by their integer index\n",
    "\n",
    "Dot (.) notation: "
   ]
  },
  {
   "cell_type": "code",
   "execution_count": null,
   "metadata": {},
   "outputs": [],
   "source": [
    "#Square bracket notation to access all observations of selected features\n",
    "\n",
    "# Print out states column as Pandas Series\n",
    "print(csv_df['STATES'])\n",
    "\n",
    "# Print out state column as Pandas DataFrame\n",
    "print(csv_df[['STATES']])\n",
    "\n",
    "# Print out DataFrame with states and population columns\n",
    "print(csv_df[['STATES', 'Population']])"
   ]
  },
  {
   "cell_type": "markdown",
   "metadata": {},
   "source": [
    ">Note: A single square bracket will output a pandas series while a double square bracket outputs a pandas dataframe"
   ]
  },
  {
   "cell_type": "code",
   "execution_count": null,
   "metadata": {},
   "outputs": [],
   "source": [
    "#To access features of selected observations (rows) from a DataFrame, square bracket can also be used\n",
    "\n",
    "# Print out first 4 observations\n",
    "print(csv_df[0:4], '\\n')\n",
    "\n",
    "# Print out fifth, sixth, and seventh observation\n",
    "print(csv_df[4:6])"
   ]
  },
  {
   "cell_type": "code",
   "execution_count": null,
   "metadata": {},
   "outputs": [],
   "source": [
    "#Using Loc and Iloc\n",
    "\n",
    "#since the dataset contains no label-based index, we can only use interger based iloc\n",
    "\n",
    "# Print out observation for the third state\n",
    "print(csv_df.iloc[2])\n",
    "\n",
    "# Print out observation for the 4th and 5th state\n",
    "print(csv_df.iloc[3:5])"
   ]
  },
  {
   "cell_type": "markdown",
   "metadata": {},
   "source": [
    "**Deleting features/rows in datasets**"
   ]
  },
  {
   "cell_type": "code",
   "execution_count": null,
   "metadata": {
    "scrolled": true
   },
   "outputs": [],
   "source": [
    "# Drop rows of column called population\n",
    "df = csv_df.drop(['Population'], axis = 1)\n",
    "\n",
    "print (df)"
   ]
  },
  {
   "cell_type": "markdown",
   "metadata": {},
   "source": [
    "#using del function\n",
    "\n",
    "del df['Population']\n",
    "print( df)"
   ]
  },
  {
   "cell_type": "markdown",
   "metadata": {},
   "source": [
    "# using pop function\n",
    "\n",
    "df.pop('Population')\n",
    "print (df)"
   ]
  },
  {
   "cell_type": "markdown",
   "metadata": {},
   "source": [
    "**ADDITING TO DATASET**"
   ]
  },
  {
   "cell_type": "code",
   "execution_count": null,
   "metadata": {},
   "outputs": [],
   "source": [
    "# adding more features to datset\n",
    "\n",
    "df['Population'] = csv_df['Population']\n",
    "df"
   ]
  },
  {
   "cell_type": "markdown",
   "metadata": {},
   "source": [
    "**Changing Data type of Pandas datafram and pandas series**"
   ]
  },
  {
   "cell_type": "code",
   "execution_count": null,
   "metadata": {},
   "outputs": [],
   "source": [
    "#changing the dtype of features for Series object\n",
    "\n",
    "df['Population'] = df['Population'].astype('float')\n",
    "\n",
    "df\n",
    "\n",
    "#or with the use of downcasting\n",
    "\n",
    "pd.to_numeric(df['Population'], downcast='integer')"
   ]
  },
  {
   "cell_type": "code",
   "execution_count": null,
   "metadata": {},
   "outputs": [],
   "source": [
    "#changing the dtype of features for pandas dataframe\n",
    "df[['Population', 'AREA (km2) ']] = df[['Population', 'AREA (km2) ']].astype(float)\n",
    "\n",
    "df[['Population', 'AREA (km2) ']]"
   ]
  },
  {
   "cell_type": "code",
   "execution_count": null,
   "metadata": {},
   "outputs": [],
   "source": [
    "#Adding a new column using the existing columns in DataFrame\n",
    "\n",
    "df['AreaPopu']=df['AREA (km2) ']+df['Population']\n",
    "\n",
    "df.columns"
   ]
  },
  {
   "cell_type": "markdown",
   "metadata": {},
   "source": [
    ">Note: the new feature column must be of the same dimension existing columns"
   ]
  },
  {
   "cell_type": "markdown",
   "metadata": {},
   "source": [
    "### Pandas Method"
   ]
  },
  {
   "cell_type": "markdown",
   "metadata": {},
   "source": [
    "**Sorting**\n",
    "\n",
    "Pandas sorting could be done either by using index or value"
   ]
  },
  {
   "cell_type": "code",
   "execution_count": null,
   "metadata": {
    "scrolled": true
   },
   "outputs": [],
   "source": [
    "df.sort_index(inplace = True, ascending = False)\n",
    "\n",
    "df"
   ]
  },
  {
   "cell_type": "code",
   "execution_count": null,
   "metadata": {},
   "outputs": [],
   "source": [
    "# sorting data frame by values. The argument will use column name\n",
    "#axis -> 0 means sorting will be done row-wise\n",
    "#ascending -> False \n",
    "df.sort_values(\"STATES\", axis = 0, ascending = False, \n",
    "                 inplace = True) \n",
    "df"
   ]
  },
  {
   "cell_type": "markdown",
   "metadata": {},
   "source": [
    "### Pandas DataFrame String operations\n",
    "\n",
    "\n",
    "| Method | Description\n",
    "| --- | --- | \n",
    "|lower() |Converts strings in the Series/Index to lower case.\n",
    "|upper()\t| Converts strings in the Series/Index to upper case.\n",
    "|len()\t| Computes string length\n",
    "|strip()\t| Helps strip whitespace(including newline) from each string in the Series/index from both the sides\n",
    "|split(' ')\t| Splits each string with the given pattern.\n",
    "|cat(sep=' ')\t| Concatenates the series/index elements with given separator.\n",
    "|get_dummies()\t| Returns the DataFrame with One-Hot Encoded values.\n",
    "|contains(pattern) | Returns a Boolean value True for each element if the substring contains in the element, else False.\n",
    "|replace(a,b) | Replaces the value a with the value b.\n",
    "|repeat(value) | Repeats each element with specified number of times.\n",
    "|count(pattern) | Returns count of appearance of pattern in each element.\n",
    "|startswith(pattern) | Returns true if the element in the Series/Index starts with the pattern.\n",
    "|endswith(pattern) | Returns true if the element in the Series/Index ends with the pattern.\n",
    "|find(pattern) | Returns the first position of the first occurrence of the pattern.\n",
    "|findall(pattern) | Returns a list of all occurrence of the pattern.\n",
    "|swapcase | Swaps the case lower/upper.\n",
    "|islower() | Checks whether all characters in each string in the Series/Index in lower case or not. Returns Boolean\n",
    "|isupper() | Checks whether all characters in each string in the Series/Index in upper case or not. Returns Boolean.\n",
    "|isnumeric() | Checks whether all characters in each string in the Series/Index are numeric. Returns Boolean.\n"
   ]
  },
  {
   "cell_type": "code",
   "execution_count": null,
   "metadata": {},
   "outputs": [],
   "source": []
  },
  {
   "cell_type": "markdown",
   "metadata": {},
   "source": [
    "for further reading:\n",
    "    \n",
    "https://pbpython.com/pandas_dtypes.html\n",
    "\n",
    "https://en.wikipedia.org/wiki/Matrix_(mathematics)\n",
    "\n",
    "https://www.geeksforgeeks.org/best-python-libraries-for-machine-learning/"
   ]
  },
  {
   "cell_type": "code",
   "execution_count": null,
   "metadata": {},
   "outputs": [],
   "source": []
  }
 ],
 "metadata": {
  "kernelspec": {
   "display_name": "Python 3",
   "language": "python",
   "name": "python3"
  },
  "language_info": {
   "codemirror_mode": {
    "name": "ipython",
    "version": 3
   },
   "file_extension": ".py",
   "mimetype": "text/x-python",
   "name": "python",
   "nbconvert_exporter": "python",
   "pygments_lexer": "ipython3",
   "version": "3.8.5"
  }
 },
 "nbformat": 4,
 "nbformat_minor": 4
}