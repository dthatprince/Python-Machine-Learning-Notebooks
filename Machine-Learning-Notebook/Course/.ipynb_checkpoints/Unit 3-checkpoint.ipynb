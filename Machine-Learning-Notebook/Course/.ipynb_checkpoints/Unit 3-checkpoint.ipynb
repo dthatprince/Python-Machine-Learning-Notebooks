{
 "cells": [
  {
   "cell_type": "markdown",
   "metadata": {},
   "source": [
    "# Data Science Nigeria: Introductory Machine Learning\n",
    "\n",
    "![](../Images/banner.jpeg)"
   ]
  },
  {
   "cell_type": "markdown",
   "metadata": {},
   "source": [
    "## Course Overview \n",
    "\n",
    "Upon completion of this study unit, you should be able to:    \n",
    "\n",
    "- Perform basic data visualization tasks\n",
    "\n",
    "- plot simple graphs\n",
    "\n",
    "- understand how to deal with missing values\n",
    "\n"
   ]
  },
  {
   "cell_type": "markdown",
   "metadata": {},
   "source": [
    "## Data Visualization\n",
    "\n",
    "#### MATPLOTLIB\n",
    "\n",
    "This is a Python library for visualization, others include \n",
    "- Seaborn\n",
    "- ggplot\n",
    "- Bokeh\n",
    "- Plotly\n",
    "- Pygal\n",
    "- Altair"
   ]
  },
  {
   "cell_type": "markdown",
   "metadata": {},
   "source": [
    "**Terms**\n",
    "\n",
    "<center><img src=\"..\\Images\\Matplotlib_anatomy.PNG\" style=\"width: 500px; height:400px\"/></center>\n",
    "\n",
    "Some common terms in Matpliotlib implementation are:\n",
    "\n",
    "**Figure:** It is a whole figure which may contain one or more than one axes (plots). You can think of a Figure as a canvas that contains plots.\n",
    "\n",
    "**Axes:** It is what we generally think of as a plot. A Figure can contain many axes. It contains two or three (in the case of 3D) Axis objects. Each axis has a title, an x-label, and a y-label.\n",
    "\n",
    "Axis: They are the number line like objects and take care of generating the graph limits."
   ]
  },
  {
   "cell_type": "code",
   "execution_count": null,
   "metadata": {},
   "outputs": [],
   "source": [
    "import matplotlib.pyplot as plt\n",
    "import numpy as np"
   ]
  },
  {
   "cell_type": "code",
   "execution_count": null,
   "metadata": {},
   "outputs": [],
   "source": [
    "plt.plot([1,2,3,4,5], [2,4,6,8,10])\n",
    "\n",
    "plt.show()"
   ]
  },
  {
   "cell_type": "markdown",
   "metadata": {},
   "source": [
    "Let us add the title, and name x-axis and y-axis using methods title(), xlabel() and ylabel() respectively."
   ]
  },
  {
   "cell_type": "code",
   "execution_count": null,
   "metadata": {},
   "outputs": [],
   "source": [
    "plt.plot([1,2,3,4,5], [2,4,6,8,10])\n",
    "plt.title('My First Plot')\n",
    "plt.xlabel(\"This is X axis\")\n",
    "plt.ylabel(\"This is Y axis\")\n",
    "plt.show()"
   ]
  },
  {
   "cell_type": "markdown",
   "metadata": {},
   "source": [
    "We can also specify the size of the graph using method figure() and passing the values as a tuple representing the rows and columns"
   ]
  },
  {
   "cell_type": "code",
   "execution_count": null,
   "metadata": {},
   "outputs": [],
   "source": [
    "plt.figure(figsize= (15,5))\n",
    "plt.plot([1,2,3,4,5], [2,4,6,8,10],'g', [5,6,7,8,9], [10,12,14,16,18], 'b')\n",
    "plt.title('My First Plot')\n",
    "plt.xlabel(\"This is X axis\")\n",
    "plt.ylabel(\"This is Y axis\")\n",
    "plt.show() "
   ]
  },
  {
   "cell_type": "code",
   "execution_count": null,
   "metadata": {},
   "outputs": [],
   "source": [
    "x = np.arange(0, 10, 0.2)\n",
    "print (x)\n",
    "\n",
    "y = np.sin (x)\n",
    "print (y)\n",
    "\n",
    "z = np.cos (x)\n",
    "print (z)\n",
    "\n",
    "plt.plot(x,y, x,z)\n",
    "plt.xlabel('numbers between 1 and 10')\n",
    "plt.ylabel('functions of the numbers')\n",
    "plt.title('sine and cosine graph')\n",
    "plt.legend(['sine','cosine'])\n",
    "plt.show()"
   ]
  },
  {
   "cell_type": "markdown",
   "metadata": {},
   "source": [
    "**Subplot**\n",
    "\n",
    "With the use of subplot method, we can create many subplots in a figure. The subplot() method takes three arguments viz are nrows, ncols, and index."
   ]
  },
  {
   "cell_type": "code",
   "execution_count": null,
   "metadata": {},
   "outputs": [],
   "source": [
    "plt.subplot(1,2,1) # 1 row, 2 columns, index 1\n",
    "plt.plot([1,2,3,4,5], [2,4,6,8,10], 'g')\n",
    "plt.title('First')\n",
    "\n",
    "plt.subplot(1,2,2) # 1 row, 2 columns, index 2\n",
    "plt.plot([1,3,6,9,12], [3,6,9,12,15], 'b')\n",
    "plt.title('Second')\n",
    "\n",
    "plt.subplots_adjust(hspace=0.4) # for adjusting spaces inbetween subplots\n",
    "\n",
    "plt.suptitle('Two subplots')\n",
    "plt.show()\n"
   ]
  },
  {
   "cell_type": "markdown",
   "metadata": {},
   "source": [
    "Other Platforms for data visualization include\n",
    "- PowerBI\n",
    "- Excel\n",
    "- Tableau\n",
    "\n",
    "e.t.c"
   ]
  },
  {
   "cell_type": "markdown",
   "metadata": {},
   "source": [
    "**Class Work**\n",
    "\n",
    "Load a datset and visualise the relationship between a feature and the target variable"
   ]
  },
  {
   "cell_type": "markdown",
   "metadata": {},
   "source": [
    "## Data Preprocessing"
   ]
  },
  {
   "cell_type": "code",
   "execution_count": null,
   "metadata": {},
   "outputs": [],
   "source": [
    "import pandas as pd\n",
    "import numpy as np"
   ]
  },
  {
   "cell_type": "markdown",
   "metadata": {},
   "source": [
    "#### Dropping Columns in a DataFrame\n",
    "Often, you’ll find that not all the categories of data in a dataset are useful to you. Pandas provide a handy way of removing unwanted columns or rows from a DataFrame with the drop() function. Let’s look at a simple example where we drop a number of columns from a DataFrame."
   ]
  },
  {
   "cell_type": "code",
   "execution_count": null,
   "metadata": {},
   "outputs": [],
   "source": [
    "df = pd.read_csv('../Data/BL-Flickr-Images-Book.csv')\n",
    "df.head()"
   ]
  },
  {
   "cell_type": "code",
   "execution_count": null,
   "metadata": {},
   "outputs": [],
   "source": [
    "df.info()"
   ]
  },
  {
   "cell_type": "markdown",
   "metadata": {},
   "source": [
    "the information in the following columns are reductant or not needed, so we would be dropping them from the data set using the **drop()**"
   ]
  },
  {
   "cell_type": "code",
   "execution_count": null,
   "metadata": {},
   "outputs": [],
   "source": [
    "to_drop = ['Edition Statement',\n",
    "            'Corporate Author',\n",
    "           'Corporate Contributors',\n",
    "            'Former owner',\n",
    "            'Engraver',\n",
    "            'Contributors',\n",
    "            'Issuance type',\n",
    "            'Shelfmarks']\n",
    "\n",
    "# inplace agrument in the drop method makes the changes permanent in the dataset\n",
    "df.drop(to_drop, inplace=True, axis=1)"
   ]
  },
  {
   "cell_type": "code",
   "execution_count": null,
   "metadata": {},
   "outputs": [],
   "source": [
    "df.info()"
   ]
  },
  {
   "cell_type": "markdown",
   "metadata": {},
   "source": [
    "#### Missing Values\n",
    "\n",
    "Every dataset has an amount of noise (unwanted or unneeded datapoint) in them, and it is our job as a data scientist to remove them from the dataset."
   ]
  },
  {
   "cell_type": "code",
   "execution_count": null,
   "metadata": {},
   "outputs": [],
   "source": [
    "# firstly, we must know the number of missing values in each column in the dataset\n",
    "df.isnull().sum()"
   ]
  },
  {
   "cell_type": "code",
   "execution_count": null,
   "metadata": {},
   "outputs": [],
   "source": [
    "# percentage of missing value, this will help us to understan if we are to drop a particular column \n",
    "# or fill in the missing value\n",
    "df.isnull().sum() * 100 / len(df)"
   ]
  },
  {
   "cell_type": "markdown",
   "metadata": {},
   "source": [
    "##### Dealing with missing values\n",
    "\n",
    "Impute Missing Values\n",
    "\n",
    "Imputing refers to using a model to replace missing values.\n",
    "\n",
    "There are many options we could consider when replacing a missing value, for example:\n",
    "\n",
    "A constant value that has meaning within the domain, such as 0, distinct from all other values.\n",
    "A value from another randomly selected record.\n",
    "A mean, median or mode value for the column.\n",
    "A value estimated by another predictive model.\n",
    "\n",
    "or you can delete the row or column base on the nature of the dataset\n",
    "\n",
    "**pandas.fillna()** can be used to fill in value into a missing column"
   ]
  },
  {
   "cell_type": "code",
   "execution_count": null,
   "metadata": {},
   "outputs": [],
   "source": []
  },
  {
   "cell_type": "markdown",
   "metadata": {},
   "source": [
    "#### Rename columns\n"
   ]
  },
  {
   "cell_type": "code",
   "execution_count": null,
   "metadata": {},
   "outputs": [],
   "source": [
    "olympics_df = pd.read_csv('Datasets/olympics.csv')\n",
    "olympics_df.head()"
   ]
  },
  {
   "cell_type": "code",
   "execution_count": null,
   "metadata": {},
   "outputs": [],
   "source": [
    "# the argument header=1 is to start from index 0 as the header and ingnor anything above that\n",
    "olympics_df = pd.read_csv('../Data/olympics.csv', header=1)\n",
    "olympics_df.head()"
   ]
  },
  {
   "cell_type": "code",
   "execution_count": null,
   "metadata": {},
   "outputs": [],
   "source": [
    "new_names =  {'Unnamed: 0': 'Country',\n",
    "              '? Summer': 'Summer Olympics',\n",
    "               '01 !': 'Gold',\n",
    "               '02 !': 'Silver',\n",
    "               '03 !': 'Bronze',\n",
    "               '? Winter': 'Winter Olympics',\n",
    "               '01 !.1': 'Gold.1',\n",
    "               '02 !.1': 'Silver.1',\n",
    "               '03 !.1': 'Bronze.1',\n",
    "               '? Games': '# Games',\n",
    "               '01 !.2': 'Gold.2',\n",
    "               '02 !.2': 'Silver.2',\n",
    "               '03 !.2': 'Bronze.2'}"
   ]
  },
  {
   "cell_type": "code",
   "execution_count": null,
   "metadata": {},
   "outputs": [],
   "source": [
    "# rename the header\n",
    "olympics_df.rename(columns=new_names, inplace=True)"
   ]
  },
  {
   "cell_type": "code",
   "execution_count": null,
   "metadata": {},
   "outputs": [],
   "source": [
    "olympics_df.head()"
   ]
  },
  {
   "cell_type": "markdown",
   "metadata": {},
   "source": [
    "## Class Work"
   ]
  },
  {
   "cell_type": "markdown",
   "metadata": {},
   "source": [
    "Clean the dataset \"titanic_train.csv\" in the file folder\n",
    "- load in the dataset using pandas framework\n",
    "- check for missing values\n",
    "- replace the missing values with either mean or mode\n",
    "- and some visualization would be nice if added"
   ]
  },
  {
   "cell_type": "markdown",
   "metadata": {},
   "source": [
    "#### Assignment\n",
    "* 1\n",
    "* 2\n",
    "* 3\n"
   ]
  },
  {
   "cell_type": "code",
   "execution_count": null,
   "metadata": {},
   "outputs": [],
   "source": []
  }
 ],
 "metadata": {
  "kernelspec": {
   "display_name": "Python 3",
   "language": "python",
   "name": "python3"
  },
  "language_info": {
   "codemirror_mode": {
    "name": "ipython",
    "version": 3
   },
   "file_extension": ".py",
   "mimetype": "text/x-python",
   "name": "python",
   "nbconvert_exporter": "python",
   "pygments_lexer": "ipython3",
   "version": "3.8.5"
  }
 },
 "nbformat": 4,
 "nbformat_minor": 2
}
